{
 "cells": [
  {
   "cell_type": "code",
   "execution_count": 2,
   "metadata": {},
   "outputs": [
    {
     "name": "stdout",
     "output_type": "stream",
     "text": [
      "Expenses are:\n",
      "Crew salarie per flight\t\t2600$.\n",
      "Fuel burned           \t\t68000 liters.\n",
      "Cost of burned fuel is\t\t35360$.\n",
      "KLM profit on flight682 is\t103340$.\n"
     ]
    }
   ],
   "source": [
    "#%%writefile AirlineProfit.py\n",
    "class Air_company:\n",
    "    def __init__(self):\n",
    "        self.flights = []\n",
    "    def add_flight(self, flight):\n",
    "        self.flights.append(flight)\n",
    "    def total_profit(self):\n",
    "        total = 0\n",
    "        for flight in self.flights:\n",
    "            total += flight.profit()\n",
    "        return total\n",
    "class Flight:\n",
    "    def __init__(self, distance):\n",
    "        self.distance = distance\n",
    "        self.airplane = None\n",
    "        self.staff = []\n",
    "        self.tickets = []\n",
    "    def set_airplane(self, airplane):\n",
    "        self.airplane = airplane\n",
    "    def add_staff(self, staff):\n",
    "        self.staff.append(staff)\n",
    "    def add_ticket(self, ticket):\n",
    "        if self.airplane.capasity > len(self.tickets):\n",
    "            self.tickets.append(ticket)\n",
    "        else:\n",
    "            raise Exception(\"Capasity error\")\n",
    "    def profit(self):\n",
    "        total = 0\n",
    "        for ticket in self.tickets:\n",
    "            total += ticket.price\n",
    "        for staff in self.staff:\n",
    "            total -= staff.salary\n",
    "        total -= self.airplane.consumption * self.distance * self.airplane.fuel.price\n",
    "        return total\n",
    "class Airplane:\n",
    "    def __init__(self, capasity, fuel, consumption):\n",
    "        self.capasity = capasity\n",
    "        self.fuel = fuel\n",
    "        self.consumption = consumption\n",
    "class Staff:\n",
    "    def __init__(self, salary):\n",
    "        self.salary = salary\n",
    "class Fuel:\n",
    "    def __init__(self, price):\n",
    "        self.price = price\n",
    "class Ticket:\n",
    "    def __init__(self, price):\n",
    "        self.price = price\n",
    "\n",
    "if __name__ == \"__main__\":\n",
    "    ticket = Ticket(450)                    # $ one way\n",
    "    fuel = Fuel(0.52)                       # $ per liter\n",
    "    crew = Staff(2600)                      # crew salarie per flight combined. 20$/hour * 13 crew members * 10 hours\n",
    "    boeing_777 = Airplane(314, fuel, 6800)  # n of seats, fuel, fuel consumption 6800 liters/hour\n",
    "    flight682 = Flight(10)                  # hours of flight\n",
    "    flight682.set_airplane(boeing_777)\n",
    "    flight682.add_staff(crew)\n",
    "\n",
    "    for i in range(boeing_777.capasity):\n",
    "        flight682.add_ticket(ticket)\n",
    "\n",
    "    KLM = Air_company()\n",
    "    KLM.add_flight(flight682)\n",
    "\n",
    "    print(f'Expenses are:\\nCrew salarie per flight\\t\\t{crew.salary}$.\\nFuel burned           \\t\\t{flight682.distance*boeing_777.consumption} liters.\\nCost of burned fuel is\\t\\t{int(flight682.distance*boeing_777.consumption*fuel.price)}$.')\n",
    "    print(f'KLM profit on flight682 is\\t{int(KLM.total_profit())}$.')"
   ]
  },
  {
   "cell_type": "code",
   "execution_count": 4,
   "metadata": {},
   "outputs": [
    {
     "name": "stdout",
     "output_type": "stream",
     "text": [
      "Overwriting TestAirlineProfit.py\n"
     ]
    }
   ],
   "source": [
    "%%writefile TestAirlineProfit.py\n",
    "import unittest\n",
    "\n",
    "from AirlineProfit import Ticket, Fuel, Staff, Airplane, Flight, Air_company\n",
    "\n",
    "class AirlineProfitTest(unittest.TestCase):\n",
    "    def test_set_ticket_price(self):\n",
    "        ticket = Ticket(450)\n",
    "        self.assertEqual(ticket.price, 450)\n",
    "    def test_set_fuel_price(self):\n",
    "        fuel = Fuel(0.52)\n",
    "        self.assertEqual(fuel.price, 0.52)\n",
    "    def test_set_crew_salarie(self):\n",
    "        crew = Staff(2600)\n",
    "        self.assertEqual(crew.salary, 2600)\n",
    "    def test_setup_plane(self):\n",
    "        boeing_777 = Airplane(314, 0, 6800)\n",
    "        self.assertEqual(boeing_777.capasity, 314)\n",
    "        self.assertEqual(boeing_777.consumption, 6800)\n",
    "    def test_flight_setup(self):\n",
    "        flight682 = Flight(10)\n",
    "        self.assertEqual(flight682.distance, 10)\n",
    "\n",
    "if __name__ == '__main__':\n",
    "    loader = unittest.TestLoader()\n",
    "    all_tests_from_class = loader.loadTestsFromTestCase(AirlineProfitTest)\n",
    "    unittest.TextTestRunner(verbosity=2).run(all_tests_from_class)"
   ]
  },
  {
   "cell_type": "code",
   "execution_count": 5,
   "metadata": {},
   "outputs": [
    {
     "name": "stderr",
     "output_type": "stream",
     "text": [
      "test_flight_setup (__main__.AirlineProfitTest) ... ok\n",
      "test_set_crew_salarie (__main__.AirlineProfitTest) ... ok\n",
      "test_set_fuel_price (__main__.AirlineProfitTest) ... ok\n",
      "test_set_ticket_price (__main__.AirlineProfitTest) ... ok\n",
      "test_setup_plane (__main__.AirlineProfitTest) ... ok\n",
      "\n",
      "----------------------------------------------------------------------\n",
      "Ran 5 tests in 0.000s\n",
      "\n",
      "OK\n"
     ]
    }
   ],
   "source": [
    "!python TestAirlineProfit.py"
   ]
  }
 ],
 "metadata": {
  "kernelspec": {
   "display_name": "Python 3",
   "language": "python",
   "name": "python3"
  },
  "language_info": {
   "codemirror_mode": {
    "name": "ipython",
    "version": 3
   },
   "file_extension": ".py",
   "mimetype": "text/x-python",
   "name": "python",
   "nbconvert_exporter": "python",
   "pygments_lexer": "ipython3",
   "version": "3.6.4"
  }
 },
 "nbformat": 4,
 "nbformat_minor": 2
}
