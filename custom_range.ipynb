{
 "cells": [
  {
   "cell_type": "code",
   "execution_count": 1,
   "metadata": {},
   "outputs": [
    {
     "name": "stdout",
     "output_type": "stream",
     "text": [
      "0\n",
      "1\n",
      "2\n",
      "3\n",
      "4\n",
      "5\n",
      "6\n",
      "7\n",
      "8\n",
      "9\n",
      "10\n",
      "11\n",
      "12\n",
      "13\n"
     ]
    }
   ],
   "source": [
    "#%%writefile custom_range.py\n",
    "def custom_range(start,stop=0):\n",
    "    ''' \n",
    "    custom_range expect one or two integers and calls start_custom_range function/generator\n",
    "    \n",
    "    custom_range(start,stop)\n",
    "    custom_range(stop) - in this case 'start == 0'\n",
    "    \n",
    "    if one int is given function assign given int value to 'stop' and sets 'start == 0'\n",
    "    returns a generator\n",
    "    '''\n",
    "    if stop == 0:\n",
    "        stop = start\n",
    "        start = 0\n",
    "    def start_custom_range(start,stop):\n",
    "        '''\n",
    "        takes two ints and generates the sequence\n",
    "        upto but not including 'stop' value\n",
    "        '''\n",
    "        yield start\n",
    "        if start+1 < stop:\n",
    "            yield from start_custom_range(start+1,stop)\n",
    "    return start_custom_range(start,stop)\n",
    "\n",
    "for i in custom_range(14):\n",
    "    print(i)"
   ]
  },
  {
   "cell_type": "code",
   "execution_count": null,
   "metadata": {},
   "outputs": [],
   "source": []
  },
  {
   "cell_type": "code",
   "execution_count": null,
   "metadata": {},
   "outputs": [],
   "source": []
  },
  {
   "cell_type": "code",
   "execution_count": null,
   "metadata": {},
   "outputs": [],
   "source": []
  }
 ],
 "metadata": {
  "kernelspec": {
   "display_name": "Python 3",
   "language": "python",
   "name": "python3"
  },
  "language_info": {
   "codemirror_mode": {
    "name": "ipython",
    "version": 3
   },
   "file_extension": ".py",
   "mimetype": "text/x-python",
   "name": "python",
   "nbconvert_exporter": "python",
   "pygments_lexer": "ipython3",
   "version": "3.6.4"
  }
 },
 "nbformat": 4,
 "nbformat_minor": 2
}
