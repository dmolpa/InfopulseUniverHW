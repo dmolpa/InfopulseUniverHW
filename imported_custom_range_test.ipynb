{
 "cells": [
  {
   "cell_type": "code",
   "execution_count": 4,
   "metadata": {},
   "outputs": [],
   "source": [
    "from test_custom_range.test_custom_range import test_it"
   ]
  },
  {
   "cell_type": "code",
   "execution_count": 5,
   "metadata": {},
   "outputs": [
    {
     "name": "stderr",
     "output_type": "stream",
     "text": [
      "test_isinstance (test_custom_range.test_custom_range.test_it.<locals>.TestClass) ... ok\n",
      "test_one__value (test_custom_range.test_custom_range.test_it.<locals>.TestClass) ... ok\n",
      "test_two_values (test_custom_range.test_custom_range.test_it.<locals>.TestClass) ... ok\n",
      "\n",
      "----------------------------------------------------------------------\n",
      "Ran 3 tests in 0.031s\n",
      "\n",
      "OK\n"
     ]
    }
   ],
   "source": [
    "@test_it\n",
    "def custom_range(start,stop=0):\n",
    "    if stop == 0:\n",
    "        stop = start\n",
    "        start = 0\n",
    "    def start_custom_range(start,stop):\n",
    "        yield start\n",
    "        if start+1 < stop:\n",
    "            yield from start_custom_range(start+1,stop)\n",
    "    return start_custom_range(start,stop)"
   ]
  },
  {
   "cell_type": "code",
   "execution_count": null,
   "metadata": {},
   "outputs": [],
   "source": []
  }
 ],
 "metadata": {
  "kernelspec": {
   "display_name": "Python 3",
   "language": "python",
   "name": "python3"
  },
  "language_info": {
   "codemirror_mode": {
    "name": "ipython",
    "version": 3
   },
   "file_extension": ".py",
   "mimetype": "text/x-python",
   "name": "python",
   "nbconvert_exporter": "python",
   "pygments_lexer": "ipython3",
   "version": "3.6.4"
  }
 },
 "nbformat": 4,
 "nbformat_minor": 2
}
