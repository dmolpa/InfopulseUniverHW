{
 "cells": [
  {
   "cell_type": "markdown",
   "metadata": {},
   "source": [
    "# 2\n",
    "- univer\n",
    "- abitur study, teachers work\n",
    "- test(many abit-s, one teacher)\n",
    "- teacher make marks (2-5)\n",
    "- vedomost otnosit v decanat\n",
    "- calculate statistic"
   ]
  },
  {
   "cell_type": "markdown",
   "metadata": {},
   "source": [
    "# Deanery:\n",
    "1. Vars\n",
    "   - list of subjects\n",
    "   - overall performance\n",
    "2. Methods\n",
    "   - view overall student statistic\n",
    "   - view branch performance\n",
    "   - assign students to teacher\n",
    "\n",
    "# Teacher:\n",
    "1. Vars\n",
    "   - \n",
    "2. Methods\n",
    "   - asaign marks (topic, student)/check homework\n",
    "   - push statistics to decanat\n",
    "\n",
    "# Student:\n",
    "1. Vars\n",
    "   - holds self marks\n",
    "2. Methods\n",
    "   - study(2-5, random)?"
   ]
  },
  {
   "cell_type": "code",
   "execution_count": 4,
   "metadata": {},
   "outputs": [],
   "source": [
    "import json\n",
    "\n",
    "#with open('statistics.json', 'w') as file:\n",
    "#    json.dump(data, file)\n",
    "#    \n",
    "#with open('statistics.json', 'r') as file:\n",
    "#    data_from_file = json.load(file)"
   ]
  },
  {
   "cell_type": "code",
   "execution_count": 5,
   "metadata": {},
   "outputs": [],
   "source": [
    "class Deanery():\n",
    "    def __init__(self):\n",
    "        pass\n",
    "    def student_statistics(self,student):\n",
    "        pass\n",
    "    def overall_statistics(self,student_statistics):\n",
    "        pass"
   ]
  },
  {
   "cell_type": "code",
   "execution_count": 6,
   "metadata": {},
   "outputs": [],
   "source": [
    "class Teacher():\n",
    "    def __init__(self,name):\n",
    "        self.name = name\n",
    "    def assign_mark(self,student,subject,test,mark):\n",
    "        test += ' test score'\n",
    "        updated_test = f'{test}\\tby {self.name}\\t'                                 # Teacher's sign\n",
    "        student.progress[subject][updated_test] = student.progress[subject].pop(test)   # Teacher's sign\n",
    "        student.progress[subject].update({updated_test:mark})\n",
    "    def push_stats_to_deanery(self):\n",
    "        pass"
   ]
  },
  {
   "cell_type": "code",
   "execution_count": 9,
   "metadata": {},
   "outputs": [],
   "source": [
    "class Student():\n",
    "    '''init with name'''\n",
    "    def __init__(self,name):\n",
    "        self.name = name\n",
    "        self.progress = {}\n",
    "    def assigned_classes(self,*subjects):\n",
    "        '''accepts subject names(str) ads it as keys to self.progress dict'''\n",
    "        for i in range(len(subjects)):\n",
    "            self.progress.update({subjects[i]:{}})\n",
    "    def tests_attempted(self,subject,*tests):\n",
    "        '''\n",
    "        expect a subject name(str) and tests(str) been attempted\n",
    "        adds test names as keys to dicts nested under given subject\n",
    "        sets marks == 0\n",
    "        '''\n",
    "        for test in tests:\n",
    "            test = f'{test} test score'\n",
    "            try:\n",
    "                me.progress[subject].update({test:None})\n",
    "            except KeyError:\n",
    "                print('key error')\n",
    "    def view_progress(self):\n",
    "        '''prints out subject names on separate lines followed by tests and marks'''\n",
    "        print(f\"{self.name}'s academic progress is:\\n------------------------------\")\n",
    "        for subject, test in self.progress.items():\n",
    "            print(f'{subject}\\n')\n",
    "            for test_name, mark in test.items():\n",
    "                print(f'  {test_name}{mark}')\n",
    "            print('-'*30)\n",
    "    def save_progress(self):\n",
    "        with open(f'{self.name}.json', 'w') as file:\n",
    "            json.dump(self.progress, file)\n",
    "    def load_progress(self):\n",
    "        with open(f'{self.name}.json', 'r') as file:\n",
    "            check = input('This will overwrite current progress. Proceed? yes|no: ')\n",
    "            check.lower()\n",
    "            if check == 'yes' or check =='y':\n",
    "                self.progress = json.load(file)\n",
    "                print('Progress loaded from file.')\n",
    "            else:\n",
    "                print('load interupted')"
   ]
  },
  {
   "cell_type": "code",
   "execution_count": null,
   "metadata": {},
   "outputs": [],
   "source": []
  },
  {
   "cell_type": "markdown",
   "metadata": {},
   "source": [
    "# Student initialization\n",
    "- assign subjects\n",
    "- tests attempted, grouped by subject"
   ]
  },
  {
   "cell_type": "code",
   "execution_count": 2,
   "metadata": {},
   "outputs": [],
   "source": [
    "me = Student('Dmytro')\n",
    "me.assigned_classes('Python','English','Soft skills')\n",
    "me.tests_attempted('English','Speaking','Listening','Reading','Writing')\n",
    "me.tests_attempted('Python','Udemy complete bootcamp','Udemy Python mega course')\n",
    "me.tests_attempted('Soft skills','Cooperation')"
   ]
  },
  {
   "cell_type": "markdown",
   "metadata": {},
   "source": [
    "# Save and Load student's progress to/from JSON file"
   ]
  },
  {
   "cell_type": "code",
   "execution_count": null,
   "metadata": {},
   "outputs": [],
   "source": [
    "me.save_progress()\n",
    "me.load_progress()\n",
    "me.view_progress()"
   ]
  },
  {
   "cell_type": "markdown",
   "metadata": {},
   "source": [
    "# Teachers initialization\n",
    "- teachers giving marks\n",
    "- view student's summary"
   ]
  },
  {
   "cell_type": "code",
   "execution_count": 12,
   "metadata": {},
   "outputs": [
    {
     "name": "stdout",
     "output_type": "stream",
     "text": [
      "Dmytro's academic progress is:\n",
      "------------------------------\n",
      "Python\n",
      "\n",
      "  Udemy complete bootcamp test score\tby Jose Portilla\tcomplete\n",
      "  Udemy Python mega course test score\tby  Ardit Sulce \tin progress\n",
      "------------------------------\n",
      "English\n",
      "\n",
      "  Speaking test score\tby British Council\t7.0\n",
      "  Listening test score\tby British Council\t7.5\n",
      "  Reading test score\tby British Council\t6.5\n",
      "  Writing test score\tby British Council\t6.0\n",
      "------------------------------\n",
      "Soft skills\n",
      "\n",
      "  Cooperation test score\tby  Life \tabove average\n",
      "------------------------------\n"
     ]
    }
   ],
   "source": [
    "ielts = Teacher('British Council')\n",
    "jose = Teacher('Jose Portilla')\n",
    "ardit = Teacher(' Ardit Sulce ')\n",
    "nerves_of_steel = Teacher(' Life ')\n",
    "\n",
    "ielts.assign_mark(me,'English','Speaking',7.0)\n",
    "ielts.assign_mark(me,'English','Listening',7.5)\n",
    "ielts.assign_mark(me,'English','Reading',6.5)\n",
    "ielts.assign_mark(me,'English','Writing',6.0)\n",
    "\n",
    "jose.assign_mark(me,'Python','Udemy complete bootcamp','complete')\n",
    "ardit.assign_mark(me,'Python','Udemy Python mega course','in progress')\n",
    "\n",
    "nerves_of_steel.assign_mark(me,'Soft skills','Cooperation','above average')\n",
    "\n",
    "me.view_progress()"
   ]
  },
  {
   "cell_type": "code",
   "execution_count": null,
   "metadata": {},
   "outputs": [],
   "source": []
  },
  {
   "cell_type": "code",
   "execution_count": null,
   "metadata": {},
   "outputs": [],
   "source": []
  }
 ],
 "metadata": {
  "kernelspec": {
   "display_name": "Python 3",
   "language": "python",
   "name": "python3"
  },
  "language_info": {
   "codemirror_mode": {
    "name": "ipython",
    "version": 3
   },
   "file_extension": ".py",
   "mimetype": "text/x-python",
   "name": "python",
   "nbconvert_exporter": "python",
   "pygments_lexer": "ipython3",
   "version": "3.6.4"
  }
 },
 "nbformat": 4,
 "nbformat_minor": 2
}
