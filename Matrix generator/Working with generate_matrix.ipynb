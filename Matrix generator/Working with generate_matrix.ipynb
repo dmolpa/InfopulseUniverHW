{
 "cells": [
  {
   "cell_type": "code",
   "execution_count": 3,
   "metadata": {},
   "outputs": [],
   "source": [
    "import matrix_generator\n",
    "from matrix_generator import generate_matrix as gm\n",
    "from matrix_generator import print_matrix as printm"
   ]
  },
  {
   "cell_type": "code",
   "execution_count": 2,
   "metadata": {},
   "outputs": [
    {
     "name": "stdout",
     "output_type": "stream",
     "text": [
      "Help on module matrix_generator:\n",
      "\n",
      "NAME\n",
      "    matrix_generator\n",
      "\n",
      "FUNCTIONS\n",
      "    generate_matrix()\n",
      "        calls 'get_input' and return a matrix\n",
      "    \n",
      "    get_input()\n",
      "        ask user width and height. return two ints\n",
      "    \n",
      "    print_matrix(matrix)\n",
      "        expect matrix as input. prints matrix by row.\n",
      "\n",
      "FILE\n",
      "    c:\\users\\dmolpa\\inf_univ\\matrix generator\\matrix_generator.py\n",
      "\n",
      "\n"
     ]
    }
   ],
   "source": [
    "help(matrix_generator)"
   ]
  },
  {
   "cell_type": "code",
   "execution_count": 5,
   "metadata": {},
   "outputs": [
    {
     "name": "stdout",
     "output_type": "stream",
     "text": [
      "desired width of field: 4\n",
      "desired height of field: 4\n",
      "[1, 1, 1, 1]\n",
      "[0, 1, 1, 1]\n",
      "[1, 1, 1, 0]\n",
      "[1, 1, 0, 0]\n"
     ]
    }
   ],
   "source": [
    "matrix = gm()\n",
    "printm(matrix)"
   ]
  },
  {
   "cell_type": "code",
   "execution_count": null,
   "metadata": {},
   "outputs": [],
   "source": []
  }
 ],
 "metadata": {
  "kernelspec": {
   "display_name": "Python 3",
   "language": "python",
   "name": "python3"
  },
  "language_info": {
   "codemirror_mode": {
    "name": "ipython",
    "version": 3
   },
   "file_extension": ".py",
   "mimetype": "text/x-python",
   "name": "python",
   "nbconvert_exporter": "python",
   "pygments_lexer": "ipython3",
   "version": "3.6.4"
  }
 },
 "nbformat": 4,
 "nbformat_minor": 2
}
