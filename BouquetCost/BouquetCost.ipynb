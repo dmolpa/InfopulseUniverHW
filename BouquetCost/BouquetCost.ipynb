{
 "cells": [
  {
   "cell_type": "code",
   "execution_count": 2,
   "metadata": {},
   "outputs": [
    {
     "name": "stdout",
     "output_type": "stream",
     "text": [
      "Your bouquet consits of:\n",
      "\t3 tulips\n",
      "\t3 decoratives\n",
      "\t1 wrapping\n",
      "\tand costs 6.25$.\n",
      "Your bouquet consits of:\n",
      "\t9 roses\n",
      "\t3 decoratives\n",
      "\t1 wrapping\n",
      "\tand costs 34.0$.\n"
     ]
    }
   ],
   "source": [
    "#%%writefile BouquetCost.py\n",
    "class Bouquet:\n",
    "    def __init__(self):\n",
    "        self.content = []\n",
    "        self.price = 0\n",
    "    def calculate_cost(self):\n",
    "        self.price = 0\n",
    "        for each in self.content:\n",
    "            self.price += each[1]*each[2]       # price * quantity\n",
    "    def add(self,item,quantity):\n",
    "        result = []\n",
    "        for i in range(2):\n",
    "            result.append(item.name_price[i])   # item list unpacking to make a new list with quantity\n",
    "        result.append(quantity)                 # result ==  ['name',price,quantity]\n",
    "        self.content.append(result)\n",
    "    def print_summary(self):\n",
    "        self.calculate_cost()\n",
    "        print(f'Your bouquet consits of:')\n",
    "        for i in range(len(self.content)):\n",
    "            if self.content[i][2] > 1:\n",
    "                print(f'\\t{self.content[i][2]} {self.content[i][0]}s') # plural form\n",
    "            else:\n",
    "                print(f'\\t{self.content[i][2]} {self.content[i][0]}')  # singular form\n",
    "        print(f'\\tand costs {self.price}$.')\n",
    "                   \n",
    "class BouquetItem:\n",
    "    def __init__(self,name,price):\n",
    "        self.name_price = [name,price]\n",
    "\n",
    "if __name__ == '__main__':\n",
    "    rose = BouquetItem('rose',3.50)       \n",
    "    tulip = BouquetItem('tulip',1.25)\n",
    "    wrap = BouquetItem('wrapping',0.25)\n",
    "    decor = BouquetItem('decorative',0.75)\n",
    "    \n",
    "    tulip_bouquet = Bouquet()\n",
    "    tulip_bouquet.add(tulip,3)\n",
    "    tulip_bouquet.add(decor,3)\n",
    "    tulip_bouquet.add(wrap,1)\n",
    "    tulip_bouquet.print_summary()\n",
    "    \n",
    "    rose_bouquet = Bouquet()\n",
    "    rose_bouquet.add(rose,9)\n",
    "    rose_bouquet.add(decor,3)\n",
    "    rose_bouquet.add(wrap,1)\n",
    "    rose_bouquet.print_summary()"
   ]
  },
  {
   "cell_type": "code",
   "execution_count": 3,
   "metadata": {},
   "outputs": [
    {
     "name": "stdout",
     "output_type": "stream",
     "text": [
      "Overwriting TestBouquetCost.py\n"
     ]
    }
   ],
   "source": [
    "%%writefile TestBouquetCost.py\n",
    "import unittest\n",
    "\n",
    "from BouquetCost import Bouquet, BouquetItem\n",
    "\n",
    "\n",
    "class BouquetCostTest(unittest.TestCase):\n",
    "    def test_set_bouquet_item(self):\n",
    "        tulip = BouquetItem('tulip',1.25)\n",
    "        self.assertEqual(tulip.name_price, ['tulip',1.25])\n",
    "    def test_setup_bouquet(self):\n",
    "        tulip_bouquet = Bouquet()\n",
    "        self.assertEqual(tulip_bouquet.content, [])\n",
    "        self.assertEqual(tulip_bouquet.price, 0)\n",
    "    def test_add_item_to_bouquet(self):\n",
    "        tulip = BouquetItem('tulip',1.25)\n",
    "        tulip_bouquet = Bouquet()\n",
    "        tulip_bouquet.add(tulip,3)\n",
    "        self.assertEqual(tulip_bouquet.content, [['tulip',1.25,3]])\n",
    "    def test_calculate_bouquet_cost(self):\n",
    "        tulip = BouquetItem('tulip',1.25)\n",
    "        tulip_bouquet = Bouquet()\n",
    "        tulip_bouquet.add(tulip,3)\n",
    "        tulip_bouquet.calculate_cost()\n",
    "        self.assertEqual(tulip_bouquet.price, 3.75)\n",
    "\n",
    "if __name__ == '__main__':\n",
    "    loader = unittest.TestLoader()\n",
    "    all_tests_from_class = loader.loadTestsFromTestCase(BouquetCostTest)\n",
    "    unittest.TextTestRunner(verbosity=2).run(all_tests_from_class)"
   ]
  },
  {
   "cell_type": "code",
   "execution_count": 4,
   "metadata": {},
   "outputs": [
    {
     "name": "stderr",
     "output_type": "stream",
     "text": [
      "test_add_item_to_bouquet (__main__.BouquetCostTest) ... ok\n",
      "test_calculate_bouquet_cost (__main__.BouquetCostTest) ... ok\n",
      "test_set_bouquet_item (__main__.BouquetCostTest) ... ok\n",
      "test_setup_bouquet (__main__.BouquetCostTest) ... ok\n",
      "\n",
      "----------------------------------------------------------------------\n",
      "Ran 4 tests in 0.000s\n",
      "\n",
      "OK\n"
     ]
    }
   ],
   "source": [
    "!python TestBouquetCost.py"
   ]
  },
  {
   "cell_type": "code",
   "execution_count": null,
   "metadata": {},
   "outputs": [],
   "source": []
  }
 ],
 "metadata": {
  "kernelspec": {
   "display_name": "Python 3",
   "language": "python",
   "name": "python3"
  },
  "language_info": {
   "codemirror_mode": {
    "name": "ipython",
    "version": 3
   },
   "file_extension": ".py",
   "mimetype": "text/x-python",
   "name": "python",
   "nbconvert_exporter": "python",
   "pygments_lexer": "ipython3",
   "version": "3.6.4"
  }
 },
 "nbformat": 4,
 "nbformat_minor": 2
}
