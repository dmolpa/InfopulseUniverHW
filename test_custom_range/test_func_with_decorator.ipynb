{
 "cells": [
  {
   "cell_type": "code",
   "execution_count": 1,
   "metadata": {},
   "outputs": [
    {
     "name": "stderr",
     "output_type": "stream",
     "text": [
      "test_instance (__main__.test_it.<locals>.TestClass) ... ok\n",
      "test_one__arg (__main__.test_it.<locals>.TestClass) ... ok\n",
      "test_two_args (__main__.test_it.<locals>.TestClass) ... ok\n",
      "\n",
      "----------------------------------------------------------------------\n",
      "Ran 3 tests in 0.031s\n",
      "\n",
      "OK\n"
     ]
    }
   ],
   "source": [
    "#%%writefile test_custom_range.py\n",
    "import types\n",
    "import unittest\n",
    "loader = unittest.TestLoader()\n",
    "\n",
    "def test_it(func):\n",
    "    class TestClass(unittest.TestCase):\n",
    "        '''running 3 tests'''\n",
    "        def test_instance(self):\n",
    "            self.assertIsInstance(func(0,0), types.GeneratorType)\n",
    "        def test_two_args(self):\n",
    "            self.assertEqual(len(list(func(0,3))), 3)\n",
    "        def test_one__arg(self):\n",
    "            self.assertEqual(len(list(func(3))), 3)\n",
    "\n",
    "    # all_tests_from_class = loader.loadTestsFromTestCase(TestClass) # Return a suite of all test cases contained in testCaseClass\n",
    "    # unittest.TextTestRunner(verbosity=2).run(all_tests_from_class) # verbosity=2 for detailed output\n",
    "    # return func\n",
    "\n",
    "@test_it\n",
    "def custom_range(start,stop=0):\n",
    "    if stop == 0:\n",
    "        stop = start\n",
    "        start = 0\n",
    "    def start_custom_range(start,stop):\n",
    "        yield start\n",
    "        if start+1 < stop:\n",
    "            yield from start_custom_range(start+1,stop)\n",
    "    return start_custom_range(start,stop)\n",
    "\n",
    "#for each in custom_range(7):\n",
    "#    print(each)"
   ]
  },
  {
   "cell_type": "code",
   "execution_count": null,
   "metadata": {},
   "outputs": [],
   "source": []
  },
  {
   "cell_type": "code",
   "execution_count": null,
   "metadata": {},
   "outputs": [],
   "source": []
  },
  {
   "cell_type": "code",
   "execution_count": null,
   "metadata": {},
   "outputs": [],
   "source": []
  }
 ],
 "metadata": {
  "kernelspec": {
   "display_name": "Python 3",
   "language": "python",
   "name": "python3"
  },
  "language_info": {
   "codemirror_mode": {
    "name": "ipython",
    "version": 3
   },
   "file_extension": ".py",
   "mimetype": "text/x-python",
   "name": "python",
   "nbconvert_exporter": "python",
   "pygments_lexer": "ipython3",
   "version": "3.6.4"
  }
 },
 "nbformat": 4,
 "nbformat_minor": 2
}
