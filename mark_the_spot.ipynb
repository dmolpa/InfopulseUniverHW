{
 "cells": [
  {
   "cell_type": "code",
   "execution_count": 16,
   "metadata": {},
   "outputs": [],
   "source": [
    "from matrix_generator import matrix_generator as m_gen"
   ]
  },
  {
   "cell_type": "code",
   "execution_count": 17,
   "metadata": {},
   "outputs": [
    {
     "name": "stdout",
     "output_type": "stream",
     "text": [
      "desired width of field: 5\n",
      "desired height of field: 5\n"
     ]
    }
   ],
   "source": [
    "field = m_gen.generate_matrix()"
   ]
  },
  {
   "cell_type": "code",
   "execution_count": 18,
   "metadata": {},
   "outputs": [],
   "source": [
    "def seek_ones(y,x,mark):\n",
    "    if marked_f[y][x] != 1:                # if cell value is not 1 (0 or 2 or 3)\n",
    "        if y-1 >= 0:                       # if there's a cell left\n",
    "            seek_ones(y-1,x,mark)          # 'seek_ones(left)'\n",
    "        if x-1 >= 0:                       # if there's a cell up\n",
    "            seek_ones(y,x-1,mark)          # 'seek_ones(up)\n",
    "    else:                                  # if cell value !=0\n",
    "        mark = mark+1                      # prepare a 'mark'\n",
    "        found(y,x,mark)                    # call 'found()'\n",
    "        seek_ones(y,x,mark)                "
   ]
  },
  {
   "cell_type": "code",
   "execution_count": 19,
   "metadata": {},
   "outputs": [],
   "source": [
    "def found(y,x,mark):\n",
    "    global marked_f\n",
    "    # print(f'found width:{y} height:{x} val:{marked_f[y][x]}') # to understand the flow\n",
    "    if marked_f[y][x] == 1:\n",
    "        marked_f[y][x] = mark\n",
    "    if y-1 >= 0 and marked_f[y-1][x] == 1: # if there's a cell left where to go AND it's val is 1: \n",
    "        found(y-1,x,mark)\n",
    "    if x-1 >= 0 and marked_f[y][x-1] == 1: # if there's a cell up where to go AND it's val is 1:\n",
    "        found(y,x-1,mark)                  # change val 1 to mark"
   ]
  },
  {
   "cell_type": "code",
   "execution_count": 20,
   "metadata": {},
   "outputs": [
    {
     "name": "stdout",
     "output_type": "stream",
     "text": [
      "[0, 4, 0, 2, 3]\n",
      "[4, 0, 0, 2, 3]\n",
      "[0, 0, 0, 2, 0]\n",
      "[0, 0, 2, 2, 2]\n",
      "[0, 0, 0, 0, 2]\n"
     ]
    }
   ],
   "source": [
    "def start_search(field):\n",
    "    '''find blocks of ones in matrix'''\n",
    "    w_max = len(field[0])-1\n",
    "    h_max = len(field)-1\n",
    "    \n",
    "    seek_ones(h_max,w_max,mark)\n",
    "    \n",
    "    \n",
    "def main(field):\n",
    "    global marked_f\n",
    "    global mark\n",
    "    marked_f = field\n",
    "    mark = 1\n",
    "    start_search(field)\n",
    "\n",
    "marked_f = []\n",
    "main(field)\n",
    "m_gen.print_matrix(marked_f)"
   ]
  },
  {
   "cell_type": "code",
   "execution_count": null,
   "metadata": {},
   "outputs": [],
   "source": []
  }
 ],
 "metadata": {
  "kernelspec": {
   "display_name": "Python 3",
   "language": "python",
   "name": "python3"
  },
  "language_info": {
   "codemirror_mode": {
    "name": "ipython",
    "version": 3
   },
   "file_extension": ".py",
   "mimetype": "text/x-python",
   "name": "python",
   "nbconvert_exporter": "python",
   "pygments_lexer": "ipython3",
   "version": "3.6.4"
  }
 },
 "nbformat": 4,
 "nbformat_minor": 2
}
