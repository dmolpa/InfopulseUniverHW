{
 "cells": [
  {
   "cell_type": "markdown",
   "metadata": {},
   "source": [
    "# List sorting through loop."
   ]
  },
  {
   "cell_type": "markdown",
   "metadata": {},
   "source": [
    "Custom list sort"
   ]
  },
  {
   "cell_type": "code",
   "execution_count": 5,
   "metadata": {},
   "outputs": [
    {
     "name": "stdout",
     "output_type": "stream",
     "text": [
      "[1, 2, 3, 5, 6]\n",
      "[6, 5, 3, 2, 1]\n",
      "\n",
      "unexpected inputs:\n",
      "floats [1.1, 3.5, 4.2, 6.3, 9.7]\n",
      "*******\n",
      "Looks like an empty list.\n",
      "empty None\n",
      "*******\n",
      "strings ['!', 'Hello', 'I', 'here', 'was', 'world']\n",
      "*******\n",
      "matrix [[1, 2], [8, 7], [21, 15]]\n",
      "*******\n",
      "Type Error. Function can't compare values in a list.\n",
      "mixed None\n"
     ]
    }
   ],
   "source": [
    "unsorted_list = [1,3,2,6,5]\n",
    "floats = [1.1,4.2,3.5,9.7,6.3]\n",
    "empty = []\n",
    "strings = ['Hello','world','!','I','was','here']\n",
    "matrix = [[1,2],[21,15],[8,7]]\n",
    "mixed_list = [3.14,21,' ']\n",
    "\n",
    "#**********************************************************************************\n",
    "\n",
    "def custom_sort(inp):\n",
    "    '''expect a list of comparable values as input. returns sorted list.'''\n",
    "    if type(inp) == list:\n",
    "        if inp:\n",
    "            try:            \n",
    "                for i_once in range(0,len(inp)):\n",
    "                    for i_multi in range(0,len(inp)):\n",
    "                        if inp[i_once] >= inp[i_multi]:\n",
    "                            continue\n",
    "                        elif inp[i_once] < inp[i_multi]:\n",
    "                            inp[i_once], inp[i_multi] = inp[i_multi], inp[i_once]\n",
    "                return inp\n",
    "            except TypeError:\n",
    "                print(\"Type Error. Function can't compare values in a list.\")\n",
    "        else:\n",
    "            print('Looks like an empty list.')\n",
    "    else:\n",
    "        print('Looks like input is not a list.')\n",
    "        \n",
    "#************************************************************************************        \n",
    "        \n",
    "def custom_sort_backwards(inp):\n",
    "    '''expect a list of comparable values as input. returns backwards sorted list.'''\n",
    "    if type(inp) == list:\n",
    "        if inp:\n",
    "            try:            \n",
    "                for i_once in range(0,len(inp)):\n",
    "                    for i_multi in range(0,len(inp)):\n",
    "                        if inp[i_once] <= inp[i_multi]:\n",
    "                            continue\n",
    "                        elif inp[i_once] > inp[i_multi]:\n",
    "                            inp[i_once], inp[i_multi] = inp[i_multi], inp[i_once]\n",
    "                return inp\n",
    "            except TypeError:\n",
    "                print(\"Type Error. Function can't compare values in a list.\")\n",
    "        else:\n",
    "            print('Looks like an empty list.')\n",
    "    else:\n",
    "        print('Looks like input is not a list.')\n",
    "        \n",
    "#*************************************************************************************\n",
    "        \n",
    "print(custom_sort(unsorted_list))\n",
    "print(custom_sort_backwards(unsorted_list))\n",
    "print('\\nunexpected inputs:')\n",
    "print(f'floats {custom_sort(floats)}')#[1.1,4.2,3.5,9.7,6.3]\n",
    "print('*'*7)\n",
    "print(f'empty {custom_sort(empty)}')#[]\n",
    "print('*'*7)\n",
    "print(f'strings {custom_sort(strings)}')#['Hello','world','!']\n",
    "print('*'*7)\n",
    "print(f'matrix {custom_sort(matrix)}')#[[1,2],[4,3],[8,7]]\n",
    "print('*'*7)\n",
    "print(f'mixed {custom_sort(mixed_list)}')#[3.14,21,' ']"
   ]
  },
  {
   "cell_type": "markdown",
   "metadata": {},
   "source": [
    "# Timing"
   ]
  },
  {
   "cell_type": "code",
   "execution_count": 1,
   "metadata": {},
   "outputs": [
    {
     "name": "stdout",
     "output_type": "stream",
     "text": [
      "191 µs ± 9.01 µs per loop (mean ± std. dev. of 7 runs, 1000 loops each)\n"
     ]
    }
   ],
   "source": [
    "result=[1,3,2,3,4,3,5,3,6,9,3,8,3,7,3]\n",
    "\n",
    "def custom_sort(result):\n",
    "    for i_once in range(0,len(result)):\n",
    "        for i_multi in range(0,len(result)):        \n",
    "            if result[i_once] < result[i_multi]:\n",
    "                result[i_once], result[i_multi] = result[i_multi], result[i_once]\n",
    "            elif result[i_once] >= result[i_multi]:\n",
    "                continue\n",
    "    return result\n",
    "\n",
    "%timeit custom_sort(result)"
   ]
  },
  {
   "cell_type": "code",
   "execution_count": 9,
   "metadata": {},
   "outputs": [
    {
     "name": "stdout",
     "output_type": "stream",
     "text": [
      "115 µs ± 5.88 µs per loop (mean ± std. dev. of 7 runs, 10000 loops each)\n"
     ]
    }
   ],
   "source": [
    "#result=[1,3,2,3,4,3,5,3,6,9,3,8,3,7,3]\n",
    "\n",
    "def custom_sort(result):\n",
    "    for i_once in range(0,len(result)):\n",
    "        for i_multi in range(0,len(result)):\n",
    "            if result[i_once] >= result[i_multi]:\n",
    "                continue\n",
    "            elif result[i_once] < result[i_multi]:\n",
    "                result[i_once], result[i_multi] = result[i_multi], result[i_once]\n",
    "    return result\n",
    "\n",
    "%timeit custom_sort(result)"
   ]
  },
  {
   "cell_type": "code",
   "execution_count": 2,
   "metadata": {},
   "outputs": [
    {
     "name": "stdout",
     "output_type": "stream",
     "text": [
      "2.49 µs ± 29 ns per loop (mean ± std. dev. of 7 runs, 100000 loops each)\n"
     ]
    }
   ],
   "source": [
    "%timeit sorted(result)"
   ]
  }
 ],
 "metadata": {
  "kernelspec": {
   "display_name": "Python 3",
   "language": "python",
   "name": "python3"
  },
  "language_info": {
   "codemirror_mode": {
    "name": "ipython",
    "version": 3
   },
   "file_extension": ".py",
   "mimetype": "text/x-python",
   "name": "python",
   "nbconvert_exporter": "python",
   "pygments_lexer": "ipython3",
   "version": "3.6.4"
  }
 },
 "nbformat": 4,
 "nbformat_minor": 2
}
