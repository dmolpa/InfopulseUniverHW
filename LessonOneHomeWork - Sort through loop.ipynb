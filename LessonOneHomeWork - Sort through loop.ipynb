{
 "cells": [
  {
   "cell_type": "markdown",
   "metadata": {},
   "source": [
    "# List sorting. Recursive and non recursive."
   ]
  },
  {
   "cell_type": "markdown",
   "metadata": {},
   "source": [
    "Custom list sort"
   ]
  },
  {
   "cell_type": "code",
   "execution_count": 28,
   "metadata": {},
   "outputs": [
    {
     "name": "stdout",
     "output_type": "stream",
     "text": [
      "[1, 2, 3, 5, 6]\n",
      "[6, 5, 3, 2, 1]\n"
     ]
    }
   ],
   "source": [
    "unsorted_list = [1,3,2,6,5]\n",
    "\n",
    "#**********************************************************************************\n",
    "\n",
    "def custom_sort(inp):\n",
    "    '''expect a list of comparable values as input. returns sorted list.'''\n",
    "    if type(inp) == list:\n",
    "        try:            \n",
    "            for i_once in range(0,len(inp)):\n",
    "                for i_multi in range(0,len(inp)):\n",
    "                    if inp[i_once] >= inp[i_multi]:\n",
    "                        continue\n",
    "                    elif inp[i_once] < inp[i_multi]:\n",
    "                        inp[i_once], inp[i_multi] = inp[i_multi], inp[i_once]\n",
    "            return inp\n",
    "        except TypeError:\n",
    "            print(\"Type Error. Function can't compare values in a list.\")\n",
    "    else:\n",
    "        print('Looks like input is not a list.')\n",
    "        \n",
    "#************************************************************************************        \n",
    "        \n",
    "def custom_sort_backwards(inp):\n",
    "    '''expect a list of comparable values as input. returns backwards sorted list.'''\n",
    "    if type(inp) == list:\n",
    "        try:            \n",
    "            for i_once in range(0,len(inp)):\n",
    "                for i_multi in range(0,len(inp)):\n",
    "                    if inp[i_once] <= inp[i_multi]:\n",
    "                        continue\n",
    "                    elif inp[i_once] > inp[i_multi]:\n",
    "                        inp[i_once], inp[i_multi] = inp[i_multi], inp[i_once]\n",
    "            return inp\n",
    "        except TypeError:\n",
    "            print(\"Type Error. Function can't compare values in a list.\")\n",
    "    else:\n",
    "        print('Looks like input is not a list.')\n",
    "        \n",
    "#*************************************************************************************\n",
    "        \n",
    "print(custom_sort(unsorted_list))\n",
    "print(custom_sort_backwards(unsorted_list))"
   ]
  },
  {
   "cell_type": "markdown",
   "metadata": {},
   "source": [
    "# Timing"
   ]
  },
  {
   "cell_type": "code",
   "execution_count": 29,
   "metadata": {},
   "outputs": [
    {
     "name": "stdout",
     "output_type": "stream",
     "text": [
      "125 ns ± 2.53 ns per loop (mean ± std. dev. of 7 runs, 10000000 loops each)\n"
     ]
    }
   ],
   "source": [
    "result=[1,3,2,3,4,3,5,3,6,9,3,8,3,7,3]\n",
    "\n",
    "for i_once in range(0,len(result)):\n",
    "    for i_multi in range(0,len(result)):        \n",
    "        if result[i_once] < result[i_multi]:\n",
    "            result[i_once], result[i_multi] = result[i_multi], result[i_once]\n",
    "        elif result[i_once] >= result[i_multi]:\n",
    "            continue\n",
    "%timeit x = result"
   ]
  },
  {
   "cell_type": "code",
   "execution_count": 30,
   "metadata": {},
   "outputs": [
    {
     "name": "stdout",
     "output_type": "stream",
     "text": [
      "123 ns ± 2.98 ns per loop (mean ± std. dev. of 7 runs, 10000000 loops each)\n"
     ]
    }
   ],
   "source": [
    "#result=[1,3,2,3,4,3,5,3,6,9,3,8,3,7,3]\n",
    "\n",
    "for i_once in range(0,len(result)):\n",
    "    for i_multi in range(0,len(result)):\n",
    "        if result[i_once] >= result[i_multi]:\n",
    "            continue\n",
    "        elif result[i_once] < result[i_multi]:\n",
    "            result[i_once], result[i_multi] = result[i_multi], result[i_once]        \n",
    "%timeit x = result"
   ]
  },
  {
   "cell_type": "code",
   "execution_count": null,
   "metadata": {},
   "outputs": [],
   "source": []
  }
 ],
 "metadata": {
  "kernelspec": {
   "display_name": "Python 3",
   "language": "python",
   "name": "python3"
  },
  "language_info": {
   "codemirror_mode": {
    "name": "ipython",
    "version": 3
   },
   "file_extension": ".py",
   "mimetype": "text/x-python",
   "name": "python",
   "nbconvert_exporter": "python",
   "pygments_lexer": "ipython3",
   "version": "3.6.4"
  }
 },
 "nbformat": 4,
 "nbformat_minor": 2
}
