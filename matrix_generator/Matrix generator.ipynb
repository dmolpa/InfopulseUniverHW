{
 "cells": [
  {
   "cell_type": "code",
   "execution_count": 16,
   "metadata": {},
   "outputs": [
    {
     "name": "stdout",
     "output_type": "stream",
     "text": [
      "Overwriting matrix_generator.py\n"
     ]
    }
   ],
   "source": [
    "%%writefile matrix_generator.py \n",
    "import random\n",
    "\n",
    "def get_input():\n",
    "    '''ask user width and height. return two ints'''\n",
    "    try:                                                                                  # trying to get ints from input\n",
    "        width = int(input('desired width of field: '))\n",
    "        height = int(input('desired height of field: '))\n",
    "        return width, height                                                              # return if ok\n",
    "    except ValueError:\n",
    "        print('looks like it is not an integer') \n",
    "        \n",
    "def generate_matrix():\n",
    "    '''calls 'get_input' and return a matrix''' \n",
    "    size = get_input()                                                                     # (width, height) tuple\n",
    "\n",
    "    matrix = [[random.randint(0,1) for i in range(0,size[0])] for i in range(0,size[1])]  # [[row] columns]\n",
    "        \n",
    "    return matrix\n",
    "\n",
    "def print_matrix(matrix):\n",
    "    ''' expect matrix as input. prints matrix by row. '''\n",
    "    if isinstance(matrix, list):\n",
    "        for each_row in matrix:                                                                # prints row by row\n",
    "            print(each_row) \n",
    "    else:\n",
    "        print(f'looks like input is a {type(matrix)} an not a list')\n",
    "\n",
    "if __name__ == '__main__':\n",
    "    matrix = generate_matrix()                                                                  # generate matrix\n",
    "    print_matrix(matrix)                                                                       # prints matrix"
   ]
  },
  {
   "cell_type": "code",
   "execution_count": null,
   "metadata": {},
   "outputs": [],
   "source": []
  },
  {
   "cell_type": "code",
   "execution_count": null,
   "metadata": {},
   "outputs": [],
   "source": []
  },
  {
   "cell_type": "code",
   "execution_count": null,
   "metadata": {},
   "outputs": [],
   "source": []
  }
 ],
 "metadata": {
  "kernelspec": {
   "display_name": "Python 3",
   "language": "python",
   "name": "python3"
  },
  "language_info": {
   "codemirror_mode": {
    "name": "ipython",
    "version": 3
   },
   "file_extension": ".py",
   "mimetype": "text/x-python",
   "name": "python",
   "nbconvert_exporter": "python",
   "pygments_lexer": "ipython3",
   "version": "3.6.4"
  }
 },
 "nbformat": 4,
 "nbformat_minor": 2
}
