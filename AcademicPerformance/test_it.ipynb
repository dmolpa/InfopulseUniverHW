{
 "cells": [
  {
   "cell_type": "code",
   "execution_count": 3,
   "metadata": {},
   "outputs": [
    {
     "name": "stdout",
     "output_type": "stream",
     "text": [
      "Overwriting test_it.py\n"
     ]
    }
   ],
   "source": [
    "%%writefile test_it.py\n",
    "import os\n",
    "import unittest\n",
    "import progress_sheet as test_subject\n",
    "loader = unittest.TestLoader()\n",
    "\n",
    "def test_it(func):\n",
    "    class TestClass(unittest.TestCase):\n",
    "        '''running predefined tests'''\n",
    "        def setUp(self): \n",
    "            self.student = test_subject.Student(\"test_student\")\n",
    "            self.teacher = test_subject.Teacher(\"\")\n",
    "            self.dean = test_subject.Deanery()\n",
    "            self.student.save_progress()\n",
    "            self.student.set_standard_curriculum()\n",
    "            self.teacher.assign_mark(self.student,'Python','Infopulse Python course',5)\n",
    "        \n",
    "        def test_create_student(self):\n",
    "            self.assertEqual(self.student.__class__, test_subject.Student)\n",
    "        def test_create_teacher(self):\n",
    "            self.assertEqual(self.teacher.__class__, test_subject.Teacher)\n",
    "        def test_create_dean(self):\n",
    "            self.assertEqual(self.dean.__class__, test_subject.Deanery)\n",
    "        def test_save_student_progress_to_file(self):\n",
    "            self.assertEqual(os.path.exists(f'.\\json\\{self.student.name}.json'), True)\n",
    "            \n",
    "        def test_set_student_standard_curriculum(self):\n",
    "            self.assertIsInstance(self.student.progress['English'], type({}))\n",
    "            self.assertIsInstance(self.student.progress['Python'], type({}))\n",
    "            self.assertIsInstance(self.student.progress['Soft skills'], type({}))\n",
    "        def test_mark_assign_by_teacher(self):\n",
    "            self.assertEqual(self.student.progress['Python']['Infopulse Python course'][self.teacher.name], 5)\n",
    "        def test_dean_know_student_average_score(self):\n",
    "            self.assertEqual(self.dean.student_average_score(self.student), ('test_student', 1, 5.0)) #name,n of tests, score             \n",
    "            \n",
    "    all_tests_from_class = loader.loadTestsFromTestCase(TestClass) # Return a suite of all test cases contained in testCaseClass\n",
    "    unittest.TextTestRunner(verbosity=2).run(all_tests_from_class) # verbosity=2 for detailed output\n",
    "    return func\n",
    "\n",
    "@test_it\n",
    "def main():\n",
    "    pass"
   ]
  },
  {
   "cell_type": "code",
   "execution_count": null,
   "metadata": {},
   "outputs": [],
   "source": []
  }
 ],
 "metadata": {
  "kernelspec": {
   "display_name": "Python 3",
   "language": "python",
   "name": "python3"
  },
  "language_info": {
   "codemirror_mode": {
    "name": "ipython",
    "version": 3
   },
   "file_extension": ".py",
   "mimetype": "text/x-python",
   "name": "python",
   "nbconvert_exporter": "python",
   "pygments_lexer": "ipython3",
   "version": "3.6.4"
  }
 },
 "nbformat": 4,
 "nbformat_minor": 2
}
