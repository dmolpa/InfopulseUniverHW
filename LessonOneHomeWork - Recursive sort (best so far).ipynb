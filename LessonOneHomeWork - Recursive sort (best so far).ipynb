{
 "cells": [
  {
   "cell_type": "markdown",
   "metadata": {},
   "source": [
    "# It sorts until some point."
   ]
  },
  {
   "cell_type": "markdown",
   "metadata": {},
   "source": [
    "Help me, please, to figure out what I am doing wrong."
   ]
  },
  {
   "cell_type": "markdown",
   "metadata": {},
   "source": [
    "# Auxiliary list generator\n",
    "For generating a list of random ints."
   ]
  },
  {
   "cell_type": "code",
   "execution_count": 1,
   "metadata": {},
   "outputs": [
    {
     "name": "stdout",
     "output_type": "stream",
     "text": [
      "[4, 9, 1, 9, 8, 0, 2, 5, 7]\n"
     ]
    }
   ],
   "source": [
    "import random\n",
    "unsorted_list = [random.randint(0, 9) for i in range(0, 9)]\n",
    "print(unsorted_list)"
   ]
  },
  {
   "cell_type": "markdown",
   "metadata": {},
   "source": [
    "# Main topic: Custom_sort function"
   ]
  },
  {
   "cell_type": "markdown",
   "metadata": {},
   "source": [
    "I'm trying to sort a list without loops - with recursion. It's a home work.\n",
    "\n",
    "There are two functions: main and custom_sort.\n",
    "- Function 'main' makes global list 'x' available for function 'custom_sort' to sort it directly.\n",
    "- Function 'main' calls function 'custom_sort' with one argument - len() of unsorted_list.\n",
    "- 'custom_sort' walks back and forward along the list, checking and swaping values. Calls itself with index -1. \n",
    "\n",
    "issues:\n",
    "- the longer the list - the more times a function 'custom_sort' should be called. ~once * each 5-6 items.\n",
    "- first 'if' statement never executes. its copy after recursion performs great.\n",
    "- despite the fact 'custom_sort' is changing list 'x' - 'unsorted_list' changes as well. I do not know why."
   ]
  },
  {
   "cell_type": "code",
   "execution_count": 49,
   "metadata": {},
   "outputs": [
    {
     "name": "stdout",
     "output_type": "stream",
     "text": [
      "random list:           [28, 3, 93, 61, 39, 54, 43, 81, 36, 24, 81, 61, 32, 91, 69, 51, 86, 99, 74, 18]\n",
      "sorted with built-in:  [3, 18, 24, 28, 32, 36, 39, 43, 51, 54, 61, 61, 69, 74, 81, 81, 86, 91, 93, 99]\n",
      "Few times sorted list: [3, 18, 24, 28, 32, 36, 39, 43, 51, 54, 61, 61, 69, 74, 81, 81, 86, 91, 93, 99]\n"
     ]
    }
   ],
   "source": [
    "unsorted_list = [random.randint(0, 99) for i in range(0, 20)]\n",
    "\n",
    "def custom_sort(i):\n",
    "    global x\n",
    "    n = len(x)-1                            # n will be used to detect max index of list \n",
    "    if i > 0:                               # index i used for recursive calls\n",
    "        if i < n:                               # if there's a higher index... it !!!NEVER EXECUTES.\n",
    "            if x[i] > x[i+1]:                   # should compare values.\n",
    "                x[i+1],x[i] = x[i],x[i+1]       # it should swap values, but it !!!NEVER EXECUTES. I do not know why.\n",
    "        if x[i-1] > x[i]:                   # this one executes successfully until index i == 0\n",
    "            x[i-1],x[i] = x[i],x[i-1]       # swaps values\n",
    "        #---------------recursion------------\n",
    "        custom_sort(i-1)                    # function calling itself\n",
    "        #---------------recursion------------\n",
    "        if i < n:                               # downlisted if blocks starts to execute after i==0.\n",
    "            if x[i] > x[i+1]:                   # comparing and swaping successfully\n",
    "                x[i+1],x[i] = x[i],x[i+1]       # this block executes successfully. It is the same as one which won't execute\n",
    "        if x[i-1] > x[i]:                   # same here\n",
    "            x[i-1],x[i] = x[i],x[i-1]       # comparing and swaping successfully after i==0\n",
    "        return(x)\n",
    "\n",
    "            \n",
    "            \n",
    "x = []          \n",
    "def main(input_list):\n",
    "    i = len(input_list)  # i index used as counter in recursed 'custom_sort' function\n",
    "    global x             # enabling write to global variable x\n",
    "    x = input_list       # prepearing x for custom_sort function\n",
    "    custom_sort(i-1)\n",
    "\n",
    "print(f'random list:           {unsorted_list}')  # prints input list\n",
    "compare = unsorted_list                           # just for comparison\n",
    "main(unsorted_list)                               # have no clue why 'unsorted_list' is changing\n",
    "main(unsorted_list)                               # the bigger the list the more times function should be called.  \n",
    "main(unsorted_list)\n",
    "main(unsorted_list)\n",
    "print(f'sorted with built-in:  {sorted(compare)}')# built-in sort for comparison\n",
    "print(f'Few times sorted list: {x}')              # prints out list x. custom_sort changing list x as its main action."
   ]
  },
  {
   "cell_type": "markdown",
   "metadata": {},
   "source": [
    "# If there's a built-in function - use it!"
   ]
  },
  {
   "cell_type": "code",
   "execution_count": 12,
   "metadata": {},
   "outputs": [
    {
     "name": "stdout",
     "output_type": "stream",
     "text": [
      "35.2 µs ± 4.3 µs per loop (mean ± std. dev. of 7 runs, 10000 loops each)\n"
     ]
    }
   ],
   "source": [
    "%timeit main(unsorted_list)"
   ]
  },
  {
   "cell_type": "code",
   "execution_count": 14,
   "metadata": {},
   "outputs": [
    {
     "name": "stdout",
     "output_type": "stream",
     "text": [
      "2.69 µs ± 65.6 ns per loop (mean ± std. dev. of 7 runs, 100000 loops each)\n"
     ]
    }
   ],
   "source": [
    "%timeit sorted(unsorted_list)"
   ]
  },
  {
   "cell_type": "code",
   "execution_count": null,
   "metadata": {},
   "outputs": [],
   "source": []
  },
  {
   "cell_type": "code",
   "execution_count": null,
   "metadata": {},
   "outputs": [],
   "source": []
  },
  {
   "cell_type": "code",
   "execution_count": null,
   "metadata": {},
   "outputs": [],
   "source": []
  },
  {
   "cell_type": "code",
   "execution_count": null,
   "metadata": {},
   "outputs": [],
   "source": []
  },
  {
   "cell_type": "markdown",
   "metadata": {},
   "source": [
    "# My wikked way of debugging it\n",
    "- This one is just as uplisted.\n",
    "- 'print' statements help to understand how it works\n",
    "- Look into output"
   ]
  },
  {
   "cell_type": "code",
   "execution_count": 10,
   "metadata": {},
   "outputs": [
    {
     "name": "stdout",
     "output_type": "stream",
     "text": [
      "examinee: [66, 74, 76, 15, 50, 37, 98, 83, 30, 87]\n",
      "i:9\n",
      "i:8\n",
      "------------------------------y swap 1: [66, 74, 76, 15, 50, 37, 98, 83, 30, 87] --- 83 > 30\n",
      "i:7\n",
      "------------------------------y swap 1: [66, 74, 76, 15, 50, 37, 98, 30, 83, 87] --- 98 > 30\n",
      "i:6\n",
      "------------------------------y swap 1: [66, 74, 76, 15, 50, 37, 30, 98, 83, 87] --- 37 > 30\n",
      "i:5\n",
      "------------------------------y swap 1: [66, 74, 76, 15, 50, 30, 37, 98, 83, 87] --- 50 > 30\n",
      "i:4\n",
      "i:3\n",
      "------------------------------y swap 1: [66, 74, 76, 15, 30, 50, 37, 98, 83, 87] --- 76 > 15\n",
      "i:2\n",
      "------------------------------y swap 1: [66, 74, 15, 76, 30, 50, 37, 98, 83, 87] --- 74 > 15\n",
      "i:1\n",
      "------------------------------y swap 1: [66, 15, 74, 76, 30, 50, 37, 98, 83, 87] --- 66 > 15\n",
      "i:0\n",
      "after recursive call----------y swap 2: [15, 66, 74, 76, 30, 50, 37, 98, 83, 87] --- 76 > 30\n",
      "after recursive call -------- y swap 1: [15, 66, 74, 30, 76, 50, 37, 98, 83, 87] --- 74 > 30\n",
      "after recursive call----------y swap 2: [15, 66, 30, 74, 76, 50, 37, 98, 83, 87] --- 76 > 50\n",
      "after recursive call -------- y swap 1: [15, 66, 30, 74, 50, 76, 37, 98, 83, 87] --- 74 > 50\n",
      "after recursive call----------y swap 2: [15, 66, 30, 50, 74, 76, 37, 98, 83, 87] --- 76 > 37\n",
      "after recursive call -------- y swap 1: [15, 66, 30, 50, 74, 37, 76, 98, 83, 87] --- 74 > 37\n",
      "after recursive call----------y swap 2: [15, 66, 30, 50, 37, 74, 76, 98, 83, 87] --- 98 > 83\n",
      "after recursive call----------y swap 2: [15, 66, 30, 50, 37, 74, 76, 83, 98, 87] --- 98 > 87\n",
      "i:9\n",
      "i:8\n",
      "i:7\n",
      "i:6\n",
      "i:5\n",
      "i:4\n",
      "------------------------------y swap 1: [15, 66, 30, 50, 37, 74, 76, 83, 87, 98] --- 50 > 37\n",
      "i:3\n",
      "i:2\n",
      "------------------------------y swap 1: [15, 66, 30, 37, 50, 74, 76, 83, 87, 98] --- 66 > 30\n",
      "i:1\n",
      "i:0\n",
      "after recursive call----------y swap 2: [15, 30, 66, 37, 50, 74, 76, 83, 87, 98] --- 66 > 37\n",
      "after recursive call----------y swap 2: [15, 30, 37, 66, 50, 74, 76, 83, 87, 98] --- 66 > 50\n",
      "\n",
      "sorted:   [15, 30, 37, 50, 66, 74, 76, 83, 87, 98]\n"
     ]
    }
   ],
   "source": [
    "examinee = [random.randint(0, 99) for i in range(0, 10)]\n",
    "\n",
    "def custom_sort(i):\n",
    "    print(f'i:{i}')\n",
    "    n = len(y)-1\n",
    "    if i > 0:\n",
    "\n",
    "        if i < n:\n",
    "            if y[i] > y[i+1]:\n",
    "                print(f'y swap 2: {y} --- {y[i]} > {y[i+1]}')\n",
    "                y[i+1],y[i] = y[i],y[i+1]\n",
    "#___________________________________________________________________________\n",
    "        if y[i-1] > y[i]:\n",
    "            print(f'------------------------------y swap 1: {y} --- {y[i-1]} > {y[i]}')\n",
    "            y[i-1],y[i] = y[i],y[i-1]\n",
    "        \n",
    "        custom_sort(i-1)\n",
    "        \n",
    "        if i < n:\n",
    "            if y[i] > y[i+1]:\n",
    "                print(f'after recursive call----------y swap 2: {y} --- {y[i]} > {y[i+1]}')\n",
    "                y[i+1],y[i] = y[i],y[i+1]\n",
    "#___________________________________________________________________________\n",
    "        if y[i-1] > y[i]:\n",
    "            print(f'after recursive call -------- y swap 1: {y} --- {y[i-1]} > {y[i]}')\n",
    "            y[i-1],y[i] = y[i],y[i-1]\n",
    "    #print('end')\n",
    "\n",
    "            \n",
    "            \n",
    "y = []            \n",
    "def main(input_list):\n",
    "    i = len(input_list)\n",
    "    global y\n",
    "    y = input_list\n",
    "    custom_sort(i-1)\n",
    "\n",
    "print(f'examinee: {examinee}')\n",
    "main(examinee)\n",
    "main(examinee)\n",
    "print(f'\\nsorted:   {y}')"
   ]
  },
  {
   "cell_type": "code",
   "execution_count": null,
   "metadata": {},
   "outputs": [],
   "source": []
  }
 ],
 "metadata": {
  "kernelspec": {
   "display_name": "Python 3",
   "language": "python",
   "name": "python3"
  },
  "language_info": {
   "codemirror_mode": {
    "name": "ipython",
    "version": 3
   },
   "file_extension": ".py",
   "mimetype": "text/x-python",
   "name": "python",
   "nbconvert_exporter": "python",
   "pygments_lexer": "ipython3",
   "version": "3.6.4"
  }
 },
 "nbformat": 4,
 "nbformat_minor": 2
}
