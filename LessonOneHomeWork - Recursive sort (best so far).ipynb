{
 "cells": [
  {
   "cell_type": "markdown",
   "metadata": {},
   "source": [
    "# It sorts until some point."
   ]
  },
  {
   "cell_type": "markdown",
   "metadata": {},
   "source": [
    "Help me, please, to figure out what I am doing wrong."
   ]
  },
  {
   "cell_type": "code",
   "execution_count": 13,
   "metadata": {},
   "outputs": [
    {
     "name": "stdout",
     "output_type": "stream",
     "text": [
      "[7, 6, 1, 0, 4, 3, 6, 6, 1]\n"
     ]
    }
   ],
   "source": [
    "import random\n",
    "unsorted_list = [random.randint(0, 9) for i in range(0, 9)]\n",
    "print(unsorted_list)"
   ]
  },
  {
   "cell_type": "code",
   "execution_count": 41,
   "metadata": {},
   "outputs": [
    {
     "name": "stdout",
     "output_type": "stream",
     "text": [
      "random list:           [34, 67, 38, 0, 88, 85, 30, 45, 8, 81, 14, 90, 62, 30, 85, 38, 61, 46, 31, 16, 98, 89, 54]\n",
      "sorted with built-in:  [0, 8, 14, 16, 30, 30, 31, 34, 38, 38, 45, 46, 54, 61, 62, 67, 81, 85, 85, 88, 89, 90, 98]\n",
      "Few times sorted list: [0, 8, 14, 16, 30, 30, 31, 34, 38, 38, 45, 46, 54, 61, 62, 67, 81, 85, 85, 88, 89, 90, 98]\n"
     ]
    }
   ],
   "source": [
    "unsorted_list = [random.randint(0, 99) for i in range(0, 23)]\n",
    "\n",
    "def custom_sort(i):\n",
    "    global x\n",
    "    n = len(x)-1                            # n will be used to detect max index of list \n",
    "    if i > 0:                               # index i used for recursive calls\n",
    "        if i < n:                               # if there's a higher index... it !!!NEVER EXECUTES.\n",
    "            if x[i] > x[i+1]:                   # should compare values.\n",
    "                x[i+1],x[i] = x[i],x[i+1]       # it should swap values, but it !!!NEVER EXECUTES. I do not know why.\n",
    "        if x[i-1] > x[i]:                   # this one executes successfully until index i == 0\n",
    "            x[i-1],x[i] = x[i],x[i-1]       # swaps values\n",
    "        #---------------recursion------------\n",
    "        custom_sort(i-1)                    # function calling itself\n",
    "        #---------------recursion------------\n",
    "        if i < n:                               # downlisted if blocks starts to execute after i==0.\n",
    "            if x[i] > x[i+1]:                   # comparing and swaping successfully\n",
    "                x[i+1],x[i] = x[i],x[i+1]       # this block executes successfully. It is the same as one which won't execute\n",
    "        if x[i-1] > x[i]:                   # same here\n",
    "            x[i-1],x[i] = x[i],x[i-1]       # comparing and swaping successfully after i==0\n",
    "        return(x)\n",
    "\n",
    "            \n",
    "            \n",
    "x = []          \n",
    "def main(input_list):\n",
    "    i = len(input_list)  # i index used as counter in recursed 'custom_sort' function\n",
    "    global x             # enabling write to global variable x\n",
    "    x = input_list       # prepearing x for custom_sort function\n",
    "    custom_sort(i-1)\n",
    "\n",
    "print(f'random list:           {unsorted_list}')  # prints input list\n",
    "compare = unsorted_list                           # just for comparison\n",
    "main(unsorted_list)                               # have no clue why 'unsorted_list' is changing\n",
    "main(unsorted_list)                               # the bigger the list the more times function should be called.  \n",
    "main(unsorted_list)\n",
    "main(unsorted_list)\n",
    "print(f'sorted with built-in:  {sorted(compare)}')# built-in sort for comparison\n",
    "print(f'Few times sorted list: {x}')              # prints out list x. custom_sort changing list x as its main action."
   ]
  },
  {
   "cell_type": "code",
   "execution_count": 12,
   "metadata": {},
   "outputs": [
    {
     "name": "stdout",
     "output_type": "stream",
     "text": [
      "35.2 µs ± 4.3 µs per loop (mean ± std. dev. of 7 runs, 10000 loops each)\n"
     ]
    }
   ],
   "source": [
    "%timeit main(unsorted_list)"
   ]
  },
  {
   "cell_type": "code",
   "execution_count": 14,
   "metadata": {},
   "outputs": [
    {
     "name": "stdout",
     "output_type": "stream",
     "text": [
      "2.69 µs ± 65.6 ns per loop (mean ± std. dev. of 7 runs, 100000 loops each)\n"
     ]
    }
   ],
   "source": [
    "%timeit sorted(unsorted_list)"
   ]
  },
  {
   "cell_type": "code",
   "execution_count": null,
   "metadata": {},
   "outputs": [],
   "source": []
  },
  {
   "cell_type": "code",
   "execution_count": null,
   "metadata": {},
   "outputs": [],
   "source": []
  },
  {
   "cell_type": "code",
   "execution_count": null,
   "metadata": {},
   "outputs": [],
   "source": []
  },
  {
   "cell_type": "code",
   "execution_count": null,
   "metadata": {},
   "outputs": [],
   "source": []
  },
  {
   "cell_type": "markdown",
   "metadata": {},
   "source": [
    "# My wikked way of debugging it"
   ]
  },
  {
   "cell_type": "code",
   "execution_count": 48,
   "metadata": {},
   "outputs": [
    {
     "name": "stdout",
     "output_type": "stream",
     "text": [
      "examinee: [27, 49, 16, 51, 48, 43, 71, 4, 68, 84, 75, 63, 78, 58]\n",
      "i:13\n",
      "------------------------------x before swap 1: [27, 49, 16, 51, 48, 43, 71, 4, 68, 84, 75, 63, 78, 58] --- 78 > 58\n",
      "i:12\n",
      "------------------------------x before swap 1: [27, 49, 16, 51, 48, 43, 71, 4, 68, 84, 75, 63, 58, 78] --- 63 > 58\n",
      "i:11\n",
      "------------------------------x before swap 1: [27, 49, 16, 51, 48, 43, 71, 4, 68, 84, 75, 58, 63, 78] --- 75 > 58\n",
      "i:10\n",
      "------------------------------x before swap 1: [27, 49, 16, 51, 48, 43, 71, 4, 68, 84, 58, 75, 63, 78] --- 84 > 58\n",
      "i:9\n",
      "------------------------------x before swap 1: [27, 49, 16, 51, 48, 43, 71, 4, 68, 58, 84, 75, 63, 78] --- 68 > 58\n",
      "i:8\n",
      "i:7\n",
      "------------------------------x before swap 1: [27, 49, 16, 51, 48, 43, 71, 4, 58, 68, 84, 75, 63, 78] --- 71 > 4\n",
      "i:6\n",
      "------------------------------x before swap 1: [27, 49, 16, 51, 48, 43, 4, 71, 58, 68, 84, 75, 63, 78] --- 43 > 4\n",
      "i:5\n",
      "------------------------------x before swap 1: [27, 49, 16, 51, 48, 4, 43, 71, 58, 68, 84, 75, 63, 78] --- 48 > 4\n",
      "i:4\n",
      "------------------------------x before swap 1: [27, 49, 16, 51, 4, 48, 43, 71, 58, 68, 84, 75, 63, 78] --- 51 > 4\n",
      "i:3\n",
      "------------------------------x before swap 1: [27, 49, 16, 4, 51, 48, 43, 71, 58, 68, 84, 75, 63, 78] --- 16 > 4\n",
      "i:2\n",
      "------------------------------x before swap 1: [27, 49, 4, 16, 51, 48, 43, 71, 58, 68, 84, 75, 63, 78] --- 49 > 4\n",
      "i:1\n",
      "------------------------------x before swap 1: [27, 4, 49, 16, 51, 48, 43, 71, 58, 68, 84, 75, 63, 78] --- 27 > 4\n",
      "i:0\n",
      "end\n",
      "end\n",
      "after recursive call---------x before swap 2: [4, 27, 49, 16, 51, 48, 43, 71, 58, 68, 84, 75, 63, 78] --- 49 > 16\n",
      "after recursive call --- x before swap 1: [4, 27, 16, 49, 51, 48, 43, 71, 58, 68, 84, 75, 63, 78] --- 27 > 16\n",
      "end\n",
      "end\n",
      "after recursive call---------x before swap 2: [4, 16, 27, 49, 51, 48, 43, 71, 58, 68, 84, 75, 63, 78] --- 51 > 48\n",
      "after recursive call --- x before swap 1: [4, 16, 27, 49, 48, 51, 43, 71, 58, 68, 84, 75, 63, 78] --- 49 > 48\n",
      "end\n",
      "after recursive call---------x before swap 2: [4, 16, 27, 48, 49, 51, 43, 71, 58, 68, 84, 75, 63, 78] --- 51 > 43\n",
      "after recursive call --- x before swap 1: [4, 16, 27, 48, 49, 43, 51, 71, 58, 68, 84, 75, 63, 78] --- 49 > 43\n",
      "end\n",
      "end\n",
      "after recursive call---------x before swap 2: [4, 16, 27, 48, 43, 49, 51, 71, 58, 68, 84, 75, 63, 78] --- 71 > 58\n",
      "end\n",
      "after recursive call---------x before swap 2: [4, 16, 27, 48, 43, 49, 51, 58, 71, 68, 84, 75, 63, 78] --- 71 > 68\n",
      "end\n",
      "end\n",
      "after recursive call---------x before swap 2: [4, 16, 27, 48, 43, 49, 51, 58, 68, 71, 84, 75, 63, 78] --- 84 > 75\n",
      "end\n",
      "after recursive call---------x before swap 2: [4, 16, 27, 48, 43, 49, 51, 58, 68, 71, 75, 84, 63, 78] --- 84 > 63\n",
      "after recursive call --- x before swap 1: [4, 16, 27, 48, 43, 49, 51, 58, 68, 71, 75, 63, 84, 78] --- 75 > 63\n",
      "end\n",
      "after recursive call---------x before swap 2: [4, 16, 27, 48, 43, 49, 51, 58, 68, 71, 63, 75, 84, 78] --- 84 > 78\n",
      "end\n",
      "end\n",
      "i:13\n",
      "i:12\n",
      "i:11\n",
      "i:10\n",
      "------------------------------x before swap 1: [4, 16, 27, 48, 43, 49, 51, 58, 68, 71, 63, 75, 78, 84] --- 71 > 63\n",
      "i:9\n",
      "------------------------------x before swap 1: [4, 16, 27, 48, 43, 49, 51, 58, 68, 63, 71, 75, 78, 84] --- 68 > 63\n",
      "i:8\n",
      "i:7\n",
      "i:6\n",
      "i:5\n",
      "i:4\n",
      "------------------------------x before swap 1: [4, 16, 27, 48, 43, 49, 51, 58, 63, 68, 71, 75, 78, 84] --- 48 > 43\n",
      "i:3\n",
      "i:2\n",
      "i:1\n",
      "i:0\n",
      "end\n",
      "end\n",
      "end\n",
      "end\n",
      "end\n",
      "end\n",
      "end\n",
      "end\n",
      "end\n",
      "end\n",
      "end\n",
      "end\n",
      "end\n",
      "end\n",
      "sorted:   [0, 8, 14, 16, 30, 30, 31, 34, 38, 38, 45, 46, 54, 61, 62, 67, 81, 85, 85, 88, 89, 90, 98]\n"
     ]
    }
   ],
   "source": [
    "examinee = [random.randint(0, 99) for i in range(0, 14)]\n",
    "\n",
    "def custom_sort(x, i):\n",
    "    print(f'i:{i}')\n",
    "    n = len(x)-1\n",
    "    if i > 0:\n",
    "\n",
    "        if i < n:\n",
    "            if x[i] > x[i+1]:\n",
    "                print(f'x before swap 2: {x} --- {x[i]} > {x[i+1]}')\n",
    "                x[i+1],x[i] = x[i],x[i+1]\n",
    "#___________________________________________________________________________\n",
    "        if x[i-1] > x[i]:\n",
    "            print(f'------------------------------x before swap 1: {x} --- {x[i-1]} > {x[i]}')\n",
    "            x[i-1],x[i] = x[i],x[i-1]\n",
    "        \n",
    "        custom_sort(x, i-1)\n",
    "        \n",
    "        if i < n:\n",
    "            if x[i] > x[i+1]:\n",
    "                print(f'after recursive call---------x before swap 2: {x} --- {x[i]} > {x[i+1]}')\n",
    "                x[i+1],x[i] = x[i],x[i+1]\n",
    "#___________________________________________________________________________\n",
    "        if x[i-1] > x[i]:\n",
    "            print(f'after recursive call --- x before swap 1: {x} --- {x[i-1]} > {x[i]}')\n",
    "            x[i-1],x[i] = x[i],x[i-1]\n",
    "    print('end')\n",
    "\n",
    "            \n",
    "            \n",
    "            \n",
    "def main(x):\n",
    "    i = len(x)\n",
    "    custom_sort(x, i-1)\n",
    "\n",
    "print(f'examinee: {examinee}')\n",
    "main(examinee)\n",
    "main(examinee)\n",
    "print(f'sorted:   {x}')"
   ]
  },
  {
   "cell_type": "code",
   "execution_count": null,
   "metadata": {},
   "outputs": [],
   "source": []
  }
 ],
 "metadata": {
  "kernelspec": {
   "display_name": "Python 3",
   "language": "python",
   "name": "python3"
  },
  "language_info": {
   "codemirror_mode": {
    "name": "ipython",
    "version": 3
   },
   "file_extension": ".py",
   "mimetype": "text/x-python",
   "name": "python",
   "nbconvert_exporter": "python",
   "pygments_lexer": "ipython3",
   "version": "3.6.4"
  }
 },
 "nbformat": 4,
 "nbformat_minor": 2
}
