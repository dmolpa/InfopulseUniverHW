{
 "cells": [
  {
   "cell_type": "markdown",
   "metadata": {},
   "source": [
    "# It sorts until some point."
   ]
  },
  {
   "cell_type": "markdown",
   "metadata": {},
   "source": [
    "Help me, please, to figure out what I am doing wrong."
   ]
  },
  {
   "cell_type": "code",
   "execution_count": 1,
   "metadata": {},
   "outputs": [
    {
     "name": "stdout",
     "output_type": "stream",
     "text": [
      "[4, 9, 1, 9, 8, 0, 2, 5, 7]\n"
     ]
    }
   ],
   "source": [
    "import random\n",
    "unsorted_list = [random.randint(0, 9) for i in range(0, 9)]\n",
    "print(unsorted_list)"
   ]
  },
  {
   "cell_type": "code",
   "execution_count": 49,
   "metadata": {},
   "outputs": [
    {
     "name": "stdout",
     "output_type": "stream",
     "text": [
      "random list:           [28, 3, 93, 61, 39, 54, 43, 81, 36, 24, 81, 61, 32, 91, 69, 51, 86, 99, 74, 18]\n",
      "sorted with built-in:  [3, 18, 24, 28, 32, 36, 39, 43, 51, 54, 61, 61, 69, 74, 81, 81, 86, 91, 93, 99]\n",
      "Few times sorted list: [3, 18, 24, 28, 32, 36, 39, 43, 51, 54, 61, 61, 69, 74, 81, 81, 86, 91, 93, 99]\n"
     ]
    }
   ],
   "source": [
    "unsorted_list = [random.randint(0, 99) for i in range(0, 20)]\n",
    "\n",
    "def custom_sort(i):\n",
    "    global x\n",
    "    n = len(x)-1                            # n will be used to detect max index of list \n",
    "    if i > 0:                               # index i used for recursive calls\n",
    "        if i < n:                               # if there's a higher index... it !!!NEVER EXECUTES.\n",
    "            if x[i] > x[i+1]:                   # should compare values.\n",
    "                x[i+1],x[i] = x[i],x[i+1]       # it should swap values, but it !!!NEVER EXECUTES. I do not know why.\n",
    "        if x[i-1] > x[i]:                   # this one executes successfully until index i == 0\n",
    "            x[i-1],x[i] = x[i],x[i-1]       # swaps values\n",
    "        #---------------recursion------------\n",
    "        custom_sort(i-1)                    # function calling itself\n",
    "        #---------------recursion------------\n",
    "        if i < n:                               # downlisted if blocks starts to execute after i==0.\n",
    "            if x[i] > x[i+1]:                   # comparing and swaping successfully\n",
    "                x[i+1],x[i] = x[i],x[i+1]       # this block executes successfully. It is the same as one which won't execute\n",
    "        if x[i-1] > x[i]:                   # same here\n",
    "            x[i-1],x[i] = x[i],x[i-1]       # comparing and swaping successfully after i==0\n",
    "        return(x)\n",
    "\n",
    "            \n",
    "            \n",
    "x = []          \n",
    "def main(input_list):\n",
    "    i = len(input_list)  # i index used as counter in recursed 'custom_sort' function\n",
    "    global x             # enabling write to global variable x\n",
    "    x = input_list       # prepearing x for custom_sort function\n",
    "    custom_sort(i-1)\n",
    "\n",
    "print(f'random list:           {unsorted_list}')  # prints input list\n",
    "compare = unsorted_list                           # just for comparison\n",
    "main(unsorted_list)                               # have no clue why 'unsorted_list' is changing\n",
    "main(unsorted_list)                               # the bigger the list the more times function should be called.  \n",
    "main(unsorted_list)\n",
    "main(unsorted_list)\n",
    "print(f'sorted with built-in:  {sorted(compare)}')# built-in sort for comparison\n",
    "print(f'Few times sorted list: {x}')              # prints out list x. custom_sort changing list x as its main action."
   ]
  },
  {
   "cell_type": "code",
   "execution_count": 12,
   "metadata": {},
   "outputs": [
    {
     "name": "stdout",
     "output_type": "stream",
     "text": [
      "35.2 µs ± 4.3 µs per loop (mean ± std. dev. of 7 runs, 10000 loops each)\n"
     ]
    }
   ],
   "source": [
    "%timeit main(unsorted_list)"
   ]
  },
  {
   "cell_type": "code",
   "execution_count": 14,
   "metadata": {},
   "outputs": [
    {
     "name": "stdout",
     "output_type": "stream",
     "text": [
      "2.69 µs ± 65.6 ns per loop (mean ± std. dev. of 7 runs, 100000 loops each)\n"
     ]
    }
   ],
   "source": [
    "%timeit sorted(unsorted_list)"
   ]
  },
  {
   "cell_type": "code",
   "execution_count": null,
   "metadata": {},
   "outputs": [],
   "source": []
  },
  {
   "cell_type": "code",
   "execution_count": null,
   "metadata": {},
   "outputs": [],
   "source": []
  },
  {
   "cell_type": "code",
   "execution_count": null,
   "metadata": {},
   "outputs": [],
   "source": []
  },
  {
   "cell_type": "code",
   "execution_count": null,
   "metadata": {},
   "outputs": [],
   "source": []
  },
  {
   "cell_type": "markdown",
   "metadata": {},
   "source": [
    "# My wikked way of debugging it"
   ]
  },
  {
   "cell_type": "code",
   "execution_count": 8,
   "metadata": {},
   "outputs": [
    {
     "name": "stdout",
     "output_type": "stream",
     "text": [
      "examinee: [1, 88, 80, 59, 75, 7, 12, 95, 97, 31]\n",
      "i:9\n",
      "------------------------------y swap 1: [1, 88, 80, 59, 75, 7, 12, 95, 97, 31] --- 97 > 31\n",
      "i:8\n",
      "------------------------------y swap 1: [1, 88, 80, 59, 75, 7, 12, 95, 31, 97] --- 95 > 31\n",
      "i:7\n",
      "i:6\n",
      "i:5\n",
      "------------------------------y swap 1: [1, 88, 80, 59, 75, 7, 12, 31, 95, 97] --- 75 > 7\n",
      "i:4\n",
      "------------------------------y swap 1: [1, 88, 80, 59, 7, 75, 12, 31, 95, 97] --- 59 > 7\n",
      "i:3\n",
      "------------------------------y swap 1: [1, 88, 80, 7, 59, 75, 12, 31, 95, 97] --- 80 > 7\n",
      "i:2\n",
      "------------------------------y swap 1: [1, 88, 7, 80, 59, 75, 12, 31, 95, 97] --- 88 > 7\n",
      "i:1\n",
      "i:0\n",
      "after recursive call----------y swap 2: [1, 7, 88, 80, 59, 75, 12, 31, 95, 97] --- 88 > 80\n",
      "after recursive call----------y swap 2: [1, 7, 80, 88, 59, 75, 12, 31, 95, 97] --- 88 > 59\n",
      "after recursive call -------- y swap 1: [1, 7, 80, 59, 88, 75, 12, 31, 95, 97] --- 80 > 59\n",
      "after recursive call----------y swap 2: [1, 7, 59, 80, 88, 75, 12, 31, 95, 97] --- 88 > 75\n",
      "after recursive call -------- y swap 1: [1, 7, 59, 80, 75, 88, 12, 31, 95, 97] --- 80 > 75\n",
      "after recursive call----------y swap 2: [1, 7, 59, 75, 80, 88, 12, 31, 95, 97] --- 88 > 12\n",
      "after recursive call -------- y swap 1: [1, 7, 59, 75, 80, 12, 88, 31, 95, 97] --- 80 > 12\n",
      "after recursive call----------y swap 2: [1, 7, 59, 75, 12, 80, 88, 31, 95, 97] --- 88 > 31\n",
      "after recursive call -------- y swap 1: [1, 7, 59, 75, 12, 80, 31, 88, 95, 97] --- 80 > 31\n",
      "i:9\n",
      "i:8\n",
      "i:7\n",
      "i:6\n",
      "i:5\n",
      "i:4\n",
      "------------------------------y swap 1: [1, 7, 59, 75, 12, 31, 80, 88, 95, 97] --- 75 > 12\n",
      "i:3\n",
      "------------------------------y swap 1: [1, 7, 59, 12, 75, 31, 80, 88, 95, 97] --- 59 > 12\n",
      "i:2\n",
      "i:1\n",
      "i:0\n",
      "after recursive call----------y swap 2: [1, 7, 12, 59, 75, 31, 80, 88, 95, 97] --- 75 > 31\n",
      "after recursive call -------- y swap 1: [1, 7, 12, 59, 31, 75, 80, 88, 95, 97] --- 59 > 31\n",
      "\n",
      "sorted:   [1, 7, 12, 31, 59, 75, 80, 88, 95, 97]\n"
     ]
    }
   ],
   "source": [
    "examinee = [random.randint(0, 99) for i in range(0, 10)]\n",
    "\n",
    "def custom_sort(i):\n",
    "    print(f'i:{i}')\n",
    "    n = len(y)-1\n",
    "    if i > 0:\n",
    "\n",
    "        if i < n:\n",
    "            if y[i] > y[i+1]:\n",
    "                print(f'y swap 2: {y} --- {y[i]} > {y[i+1]}')\n",
    "                y[i+1],y[i] = y[i],y[i+1]\n",
    "#___________________________________________________________________________\n",
    "        if y[i-1] > y[i]:\n",
    "            print(f'------------------------------y swap 1: {y} --- {y[i-1]} > {y[i]}')\n",
    "            y[i-1],y[i] = y[i],y[i-1]\n",
    "        \n",
    "        custom_sort(i-1)\n",
    "        \n",
    "        if i < n:\n",
    "            if y[i] > y[i+1]:\n",
    "                print(f'after recursive call----------y swap 2: {y} --- {y[i]} > {y[i+1]}')\n",
    "                y[i+1],y[i] = y[i],y[i+1]\n",
    "#___________________________________________________________________________\n",
    "        if y[i-1] > y[i]:\n",
    "            print(f'after recursive call -------- y swap 1: {y} --- {y[i-1]} > {y[i]}')\n",
    "            y[i-1],y[i] = y[i],y[i-1]\n",
    "    #print('end')\n",
    "\n",
    "            \n",
    "            \n",
    "y = []            \n",
    "def main(input_list):\n",
    "    i = len(input_list)\n",
    "    global y\n",
    "    y = input_list\n",
    "    custom_sort(i-1)\n",
    "\n",
    "print(f'examinee: {examinee}')\n",
    "main(examinee)\n",
    "main(examinee)\n",
    "print(f'\\nsorted:   {y}')"
   ]
  },
  {
   "cell_type": "code",
   "execution_count": null,
   "metadata": {},
   "outputs": [],
   "source": []
  }
 ],
 "metadata": {
  "kernelspec": {
   "display_name": "Python 3",
   "language": "python",
   "name": "python3"
  },
  "language_info": {
   "codemirror_mode": {
    "name": "ipython",
    "version": 3
   },
   "file_extension": ".py",
   "mimetype": "text/x-python",
   "name": "python",
   "nbconvert_exporter": "python",
   "pygments_lexer": "ipython3",
   "version": "3.6.4"
  }
 },
 "nbformat": 4,
 "nbformat_minor": 2
}
