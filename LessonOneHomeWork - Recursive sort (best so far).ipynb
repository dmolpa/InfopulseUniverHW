{
 "cells": [
  {
   "cell_type": "markdown",
   "metadata": {},
   "source": [
    "# It sorts until some point."
   ]
  },
  {
   "cell_type": "markdown",
   "metadata": {},
   "source": [
    "Help me, please, to figure out what I am doing wrong."
   ]
  },
  {
   "cell_type": "code",
   "execution_count": 13,
   "metadata": {},
   "outputs": [
    {
     "name": "stdout",
     "output_type": "stream",
     "text": [
      "[7, 6, 1, 0, 4, 3, 6, 6, 1]\n"
     ]
    }
   ],
   "source": [
    "import random\n",
    "unsorted_list = [random.randint(0, 9) for i in range(0, 9)]\n",
    "print(unsorted_list)"
   ]
  },
  {
   "cell_type": "code",
   "execution_count": 10,
   "metadata": {},
   "outputs": [
    {
     "name": "stdout",
     "output_type": "stream",
     "text": [
      "random list:           [3, 0, 2, 6, 8, 6, 1, 6, 3]\n",
      "Few times sorted list: [0, 1, 2, 3, 3, 6, 6, 6, 8]\n"
     ]
    }
   ],
   "source": [
    "unsorted_list = [random.randint(0, 9) for i in range(0, 9)]\n",
    "\n",
    "def custom_sort(i):\n",
    "    global x\n",
    "    n = len(x)-1                            # n will be used to detect max index of list \n",
    "    if i > 0:                               # index i used for recursive calls\n",
    "        if i < n:                               # if there's a higher index... it !!!NEVER EXECUTES.\n",
    "            if x[i] > x[i+1]:                   # should compare values.\n",
    "                x[i+1],x[i] = x[i],x[i+1]       # it should swap values, but it !!!NEVER EXECUTES. I do not know why.\n",
    "        if x[i-1] > x[i]:                   # this one executes successfully until index i == 0\n",
    "            x[i-1],x[i] = x[i],x[i-1]       # swaps values\n",
    "        #---------------recursion------------\n",
    "        custom_sort(i-1)                    # function calling itself\n",
    "        #---------------recursion------------\n",
    "        if i < n:                               # downlisted if blocks starts to execute after i==0.\n",
    "            if x[i] > x[i+1]:                   # comparing and swaping successfully\n",
    "                x[i+1],x[i] = x[i],x[i+1]       # this block executes successfully. It is the same as one which won't execute\n",
    "        if x[i-1] > x[i]:                   # same here\n",
    "            x[i-1],x[i] = x[i],x[i-1]       # comparing and swaping successfully after i==0\n",
    "        return(x)\n",
    "\n",
    "            \n",
    "            \n",
    "x = []          \n",
    "def main(input_list):\n",
    "    i = len(input_list)\n",
    "    global x\n",
    "    x = input_list\n",
    "    custom_sort(i-1)\n",
    "\n",
    "print(f'random list:           {unsorted_list}')\n",
    "main(unsorted_list)\n",
    "main(unsorted_list)\n",
    "main(unsorted_list)\n",
    "print(f'Few times sorted list: {x}')#the bigger the list the more times function should be called.  "
   ]
  },
  {
   "cell_type": "code",
   "execution_count": 12,
   "metadata": {},
   "outputs": [
    {
     "name": "stdout",
     "output_type": "stream",
     "text": [
      "35.2 µs ± 4.3 µs per loop (mean ± std. dev. of 7 runs, 10000 loops each)\n"
     ]
    }
   ],
   "source": [
    "%timeit main(unsorted_list)"
   ]
  },
  {
   "cell_type": "code",
   "execution_count": 14,
   "metadata": {},
   "outputs": [
    {
     "name": "stdout",
     "output_type": "stream",
     "text": [
      "2.69 µs ± 65.6 ns per loop (mean ± std. dev. of 7 runs, 100000 loops each)\n"
     ]
    }
   ],
   "source": [
    "%timeit sorted(unsorted_list)"
   ]
  },
  {
   "cell_type": "code",
   "execution_count": null,
   "metadata": {},
   "outputs": [],
   "source": []
  },
  {
   "cell_type": "code",
   "execution_count": null,
   "metadata": {},
   "outputs": [],
   "source": []
  },
  {
   "cell_type": "code",
   "execution_count": null,
   "metadata": {},
   "outputs": [],
   "source": []
  },
  {
   "cell_type": "code",
   "execution_count": null,
   "metadata": {},
   "outputs": [],
   "source": []
  },
  {
   "cell_type": "markdown",
   "metadata": {},
   "source": [
    "# My wikked way of debugging it"
   ]
  },
  {
   "cell_type": "code",
   "execution_count": 8,
   "metadata": {},
   "outputs": [
    {
     "name": "stdout",
     "output_type": "stream",
     "text": [
      "examinee: [6, 9, 2, 8, 5, 1, 7, 2, 3, 8, 4, 1, 4, 6]\n",
      "i:13\n",
      "i:12\n",
      "i:11\n",
      "----------------------------------------x before swap 1: [6, 9, 2, 8, 5, 1, 7, 2, 3, 8, 4, 1, 4, 6] --- 4 > 1\n",
      "-----------------------------------------x after swap 1: [6, 9, 2, 8, 5, 1, 7, 2, 3, 8, 1, 4, 4, 6]\n",
      "i:10\n",
      "----------------------------------------x before swap 1: [6, 9, 2, 8, 5, 1, 7, 2, 3, 8, 1, 4, 4, 6] --- 8 > 1\n",
      "-----------------------------------------x after swap 1: [6, 9, 2, 8, 5, 1, 7, 2, 3, 1, 8, 4, 4, 6]\n",
      "i:9\n",
      "----------------------------------------x before swap 1: [6, 9, 2, 8, 5, 1, 7, 2, 3, 1, 8, 4, 4, 6] --- 3 > 1\n",
      "-----------------------------------------x after swap 1: [6, 9, 2, 8, 5, 1, 7, 2, 1, 3, 8, 4, 4, 6]\n",
      "i:8\n",
      "----------------------------------------x before swap 1: [6, 9, 2, 8, 5, 1, 7, 2, 1, 3, 8, 4, 4, 6] --- 2 > 1\n",
      "-----------------------------------------x after swap 1: [6, 9, 2, 8, 5, 1, 7, 1, 2, 3, 8, 4, 4, 6]\n",
      "i:7\n",
      "----------------------------------------x before swap 1: [6, 9, 2, 8, 5, 1, 7, 1, 2, 3, 8, 4, 4, 6] --- 7 > 1\n",
      "-----------------------------------------x after swap 1: [6, 9, 2, 8, 5, 1, 1, 7, 2, 3, 8, 4, 4, 6]\n",
      "i:6\n",
      "i:5\n",
      "----------------------------------------x before swap 1: [6, 9, 2, 8, 5, 1, 1, 7, 2, 3, 8, 4, 4, 6] --- 5 > 1\n",
      "-----------------------------------------x after swap 1: [6, 9, 2, 8, 1, 5, 1, 7, 2, 3, 8, 4, 4, 6]\n",
      "i:4\n",
      "----------------------------------------x before swap 1: [6, 9, 2, 8, 1, 5, 1, 7, 2, 3, 8, 4, 4, 6] --- 8 > 1\n",
      "-----------------------------------------x after swap 1: [6, 9, 2, 1, 8, 5, 1, 7, 2, 3, 8, 4, 4, 6]\n",
      "i:3\n",
      "----------------------------------------x before swap 1: [6, 9, 2, 1, 8, 5, 1, 7, 2, 3, 8, 4, 4, 6] --- 2 > 1\n",
      "-----------------------------------------x after swap 1: [6, 9, 1, 2, 8, 5, 1, 7, 2, 3, 8, 4, 4, 6]\n",
      "i:2\n",
      "----------------------------------------x before swap 1: [6, 9, 1, 2, 8, 5, 1, 7, 2, 3, 8, 4, 4, 6] --- 9 > 1\n",
      "-----------------------------------------x after swap 1: [6, 1, 9, 2, 8, 5, 1, 7, 2, 3, 8, 4, 4, 6]\n",
      "i:1\n",
      "----------------------------------------x before swap 1: [6, 1, 9, 2, 8, 5, 1, 7, 2, 3, 8, 4, 4, 6] --- 6 > 1\n",
      "-----------------------------------------x after swap 1: [1, 6, 9, 2, 8, 5, 1, 7, 2, 3, 8, 4, 4, 6]\n",
      "i:0\n",
      "[1, 6, 9, 2, 8, 5, 1, 7, 2, 3, 8, 4, 4, 6]\n",
      "[1, 6, 9, 2, 8, 5, 1, 7, 2, 3, 8, 4, 4, 6]\n",
      "-------------------------------------------x before swap 2: [1, 6, 9, 2, 8, 5, 1, 7, 2, 3, 8, 4, 4, 6] --- 9 > 2\n",
      "--------------------------------------------x after swap 2: [1, 6, 2, 9, 8, 5, 1, 7, 2, 3, 8, 4, 4, 6] --- 2 > 9\n",
      "x before swap 1: [1, 6, 2, 9, 8, 5, 1, 7, 2, 3, 8, 4, 4, 6] --- 6 > 2\n",
      "-x after swap 1: [1, 2, 6, 9, 8, 5, 1, 7, 2, 3, 8, 4, 4, 6]\n",
      "[1, 2, 6, 9, 8, 5, 1, 7, 2, 3, 8, 4, 4, 6]\n",
      "-------------------------------------------x before swap 2: [1, 2, 6, 9, 8, 5, 1, 7, 2, 3, 8, 4, 4, 6] --- 9 > 8\n",
      "--------------------------------------------x after swap 2: [1, 2, 6, 8, 9, 5, 1, 7, 2, 3, 8, 4, 4, 6] --- 8 > 9\n",
      "[1, 2, 6, 8, 9, 5, 1, 7, 2, 3, 8, 4, 4, 6]\n",
      "-------------------------------------------x before swap 2: [1, 2, 6, 8, 9, 5, 1, 7, 2, 3, 8, 4, 4, 6] --- 9 > 5\n",
      "--------------------------------------------x after swap 2: [1, 2, 6, 8, 5, 9, 1, 7, 2, 3, 8, 4, 4, 6] --- 5 > 9\n",
      "x before swap 1: [1, 2, 6, 8, 5, 9, 1, 7, 2, 3, 8, 4, 4, 6] --- 8 > 5\n",
      "-x after swap 1: [1, 2, 6, 5, 8, 9, 1, 7, 2, 3, 8, 4, 4, 6]\n",
      "[1, 2, 6, 5, 8, 9, 1, 7, 2, 3, 8, 4, 4, 6]\n",
      "-------------------------------------------x before swap 2: [1, 2, 6, 5, 8, 9, 1, 7, 2, 3, 8, 4, 4, 6] --- 9 > 1\n",
      "--------------------------------------------x after swap 2: [1, 2, 6, 5, 8, 1, 9, 7, 2, 3, 8, 4, 4, 6] --- 1 > 9\n",
      "x before swap 1: [1, 2, 6, 5, 8, 1, 9, 7, 2, 3, 8, 4, 4, 6] --- 8 > 1\n",
      "-x after swap 1: [1, 2, 6, 5, 1, 8, 9, 7, 2, 3, 8, 4, 4, 6]\n",
      "[1, 2, 6, 5, 1, 8, 9, 7, 2, 3, 8, 4, 4, 6]\n",
      "-------------------------------------------x before swap 2: [1, 2, 6, 5, 1, 8, 9, 7, 2, 3, 8, 4, 4, 6] --- 9 > 7\n",
      "--------------------------------------------x after swap 2: [1, 2, 6, 5, 1, 8, 7, 9, 2, 3, 8, 4, 4, 6] --- 7 > 9\n",
      "x before swap 1: [1, 2, 6, 5, 1, 8, 7, 9, 2, 3, 8, 4, 4, 6] --- 8 > 7\n",
      "-x after swap 1: [1, 2, 6, 5, 1, 7, 8, 9, 2, 3, 8, 4, 4, 6]\n",
      "[1, 2, 6, 5, 1, 7, 8, 9, 2, 3, 8, 4, 4, 6]\n",
      "-------------------------------------------x before swap 2: [1, 2, 6, 5, 1, 7, 8, 9, 2, 3, 8, 4, 4, 6] --- 9 > 2\n",
      "--------------------------------------------x after swap 2: [1, 2, 6, 5, 1, 7, 8, 2, 9, 3, 8, 4, 4, 6] --- 2 > 9\n",
      "x before swap 1: [1, 2, 6, 5, 1, 7, 8, 2, 9, 3, 8, 4, 4, 6] --- 8 > 2\n",
      "-x after swap 1: [1, 2, 6, 5, 1, 7, 2, 8, 9, 3, 8, 4, 4, 6]\n",
      "[1, 2, 6, 5, 1, 7, 2, 8, 9, 3, 8, 4, 4, 6]\n",
      "-------------------------------------------x before swap 2: [1, 2, 6, 5, 1, 7, 2, 8, 9, 3, 8, 4, 4, 6] --- 9 > 3\n",
      "--------------------------------------------x after swap 2: [1, 2, 6, 5, 1, 7, 2, 8, 3, 9, 8, 4, 4, 6] --- 3 > 9\n",
      "x before swap 1: [1, 2, 6, 5, 1, 7, 2, 8, 3, 9, 8, 4, 4, 6] --- 8 > 3\n",
      "-x after swap 1: [1, 2, 6, 5, 1, 7, 2, 3, 8, 9, 8, 4, 4, 6]\n",
      "[1, 2, 6, 5, 1, 7, 2, 3, 8, 9, 8, 4, 4, 6]\n",
      "-------------------------------------------x before swap 2: [1, 2, 6, 5, 1, 7, 2, 3, 8, 9, 8, 4, 4, 6] --- 9 > 8\n",
      "--------------------------------------------x after swap 2: [1, 2, 6, 5, 1, 7, 2, 3, 8, 8, 9, 4, 4, 6] --- 8 > 9\n",
      "[1, 2, 6, 5, 1, 7, 2, 3, 8, 8, 9, 4, 4, 6]\n",
      "-------------------------------------------x before swap 2: [1, 2, 6, 5, 1, 7, 2, 3, 8, 8, 9, 4, 4, 6] --- 9 > 4\n",
      "--------------------------------------------x after swap 2: [1, 2, 6, 5, 1, 7, 2, 3, 8, 8, 4, 9, 4, 6] --- 4 > 9\n",
      "x before swap 1: [1, 2, 6, 5, 1, 7, 2, 3, 8, 8, 4, 9, 4, 6] --- 8 > 4\n",
      "-x after swap 1: [1, 2, 6, 5, 1, 7, 2, 3, 8, 4, 8, 9, 4, 6]\n",
      "[1, 2, 6, 5, 1, 7, 2, 3, 8, 4, 8, 9, 4, 6]\n",
      "-------------------------------------------x before swap 2: [1, 2, 6, 5, 1, 7, 2, 3, 8, 4, 8, 9, 4, 6] --- 9 > 4\n",
      "--------------------------------------------x after swap 2: [1, 2, 6, 5, 1, 7, 2, 3, 8, 4, 8, 4, 9, 6] --- 4 > 9\n",
      "x before swap 1: [1, 2, 6, 5, 1, 7, 2, 3, 8, 4, 8, 4, 9, 6] --- 8 > 4\n",
      "-x after swap 1: [1, 2, 6, 5, 1, 7, 2, 3, 8, 4, 4, 8, 9, 6]\n",
      "[1, 2, 6, 5, 1, 7, 2, 3, 8, 4, 4, 8, 9, 6]\n",
      "-------------------------------------------x before swap 2: [1, 2, 6, 5, 1, 7, 2, 3, 8, 4, 4, 8, 9, 6] --- 9 > 6\n",
      "--------------------------------------------x after swap 2: [1, 2, 6, 5, 1, 7, 2, 3, 8, 4, 4, 8, 6, 9] --- 6 > 9\n",
      "x before swap 1: [1, 2, 6, 5, 1, 7, 2, 3, 8, 4, 4, 8, 6, 9] --- 8 > 6\n",
      "-x after swap 1: [1, 2, 6, 5, 1, 7, 2, 3, 8, 4, 4, 6, 8, 9]\n",
      "[1, 2, 6, 5, 1, 7, 2, 3, 8, 4, 4, 6, 8, 9]\n",
      "[1, 2, 6, 5, 1, 7, 2, 3, 8, 4, 4, 6, 8, 9]\n",
      "sorted:   [1, 1, 2, 2, 3, 3, 3, 4, 5, 5, 6, 6, 9, 9]\n"
     ]
    }
   ],
   "source": [
    "examinee = [random.randint(0, 9) for i in range(0, 14)]\n",
    "\n",
    "def custom_sort(x, i):\n",
    "    print(f'i:{i}')\n",
    "    n = len(x)-1\n",
    "    if i > 0:\n",
    "\n",
    "        if i < n:\n",
    "            if x[i] > x[i+1]:\n",
    "                print(f'x before swap 2: {x} --- {x[i]} > {x[i+1]}')\n",
    "                x[i+1],x[i] = x[i],x[i+1]\n",
    "                print(f'-x after swap 2: {x} --- {x[i]} > {x[i+1]}')    \n",
    "#___________________________________________________________________________\n",
    "        if x[i-1] > x[i]:\n",
    "            print(f'----------------------------------------x before swap 1: {x} --- {x[i-1]} > {x[i]}')\n",
    "            x[i-1],x[i] = x[i],x[i-1]\n",
    "            print(f'-----------------------------------------x after swap 1: {x}')\n",
    "        \n",
    "        custom_sort(x, i-1)\n",
    "        \n",
    "        if i < n:\n",
    "            if x[i] > x[i+1]:\n",
    "                print(f'-------------------------------------------x before swap 2: {x} --- {x[i]} > {x[i+1]}')\n",
    "                x[i+1],x[i] = x[i],x[i+1]\n",
    "                print(f'--------------------------------------------x after swap 2: {x} --- {x[i]} > {x[i+1]}')\n",
    "#___________________________________________________________________________\n",
    "        if x[i-1] > x[i]:\n",
    "            print(f'x before swap 1: {x} --- {x[i-1]} > {x[i]}')\n",
    "            x[i-1],x[i] = x[i],x[i-1]\n",
    "            print(f'-x after swap 1: {x}')\n",
    "    print(x)\n",
    "\n",
    "            \n",
    "            \n",
    "            \n",
    "def main(x):\n",
    "    i = len(x)\n",
    "    custom_sort(x, i-1)\n",
    "\n",
    "print(f'examinee: {examinee}')\n",
    "main(examinee)\n",
    "print(f'sorted:   {x}')"
   ]
  },
  {
   "cell_type": "code",
   "execution_count": null,
   "metadata": {},
   "outputs": [],
   "source": []
  }
 ],
 "metadata": {
  "kernelspec": {
   "display_name": "Python 3",
   "language": "python",
   "name": "python3"
  },
  "language_info": {
   "codemirror_mode": {
    "name": "ipython",
    "version": 3
   },
   "file_extension": ".py",
   "mimetype": "text/x-python",
   "name": "python",
   "nbconvert_exporter": "python",
   "pygments_lexer": "ipython3",
   "version": "3.6.4"
  }
 },
 "nbformat": 4,
 "nbformat_minor": 2
}
